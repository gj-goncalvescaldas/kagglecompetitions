{
 "cells": [
  {
   "cell_type": "code",
   "execution_count": 0,
   "metadata": {
    "application/vnd.databricks.v1+cell": {
     "cellMetadata": {
      "byteLimit": 2048000,
      "rowLimit": 10000
     },
     "inputWidgets": {},
     "nuid": "7d14d559-cd36-4aae-abe3-dded4254e874",
     "showTitle": false,
     "tableResultSettingsMap": {},
     "title": ""
    }
   },
   "outputs": [],
   "source": [
    "from pyspark.sql import functions as F"
   ]
  },
  {
   "cell_type": "code",
   "execution_count": 0,
   "metadata": {
    "application/vnd.databricks.v1+cell": {
     "cellMetadata": {
      "byteLimit": 2048000,
      "rowLimit": 10000
     },
     "inputWidgets": {},
     "nuid": "94c8c8aa-54ab-467e-b8d3-1593e5c9a892",
     "showTitle": false,
     "tableResultSettingsMap": {},
     "title": ""
    }
   },
   "outputs": [],
   "source": [
    "df = spark.read.option(\"Header\", True).option(\"InferSchema\", True).csv(\"/FileStore/tables/train.csv\")"
   ]
  },
  {
   "cell_type": "code",
   "execution_count": 0,
   "metadata": {
    "application/vnd.databricks.v1+cell": {
     "cellMetadata": {
      "byteLimit": 2048000,
      "rowLimit": 10000
     },
     "inputWidgets": {},
     "nuid": "f3b45d5f-4242-45b0-8180-fa550d77ebff",
     "showTitle": false,
     "tableResultSettingsMap": {},
     "title": ""
    }
   },
   "outputs": [
    {
     "output_type": "display_data",
     "data": {
      "text/html": [
       "<style scoped>\n",
       "  .table-result-container {\n",
       "    max-height: 300px;\n",
       "    overflow: auto;\n",
       "  }\n",
       "  table, th, td {\n",
       "    border: 1px solid black;\n",
       "    border-collapse: collapse;\n",
       "  }\n",
       "  th, td {\n",
       "    padding: 5px;\n",
       "  }\n",
       "  th {\n",
       "    text-align: left;\n",
       "  }\n",
       "</style><div class='table-result-container'><table class='table-result'><thead style='background-color: white'><tr><th>Store</th><th>DayOfWeek</th><th>Date</th><th>Sales</th><th>Customers</th><th>Open</th><th>Promo</th><th>StateHoliday</th><th>SchoolHoliday</th></tr></thead><tbody><tr><td>1</td><td>5</td><td>2015-07-31</td><td>5263</td><td>555</td><td>1</td><td>1</td><td>0</td><td>1</td></tr><tr><td>2</td><td>5</td><td>2015-07-31</td><td>6064</td><td>625</td><td>1</td><td>1</td><td>0</td><td>1</td></tr><tr><td>3</td><td>5</td><td>2015-07-31</td><td>8314</td><td>821</td><td>1</td><td>1</td><td>0</td><td>1</td></tr><tr><td>4</td><td>5</td><td>2015-07-31</td><td>13995</td><td>1498</td><td>1</td><td>1</td><td>0</td><td>1</td></tr><tr><td>5</td><td>5</td><td>2015-07-31</td><td>4822</td><td>559</td><td>1</td><td>1</td><td>0</td><td>1</td></tr><tr><td>6</td><td>5</td><td>2015-07-31</td><td>5651</td><td>589</td><td>1</td><td>1</td><td>0</td><td>1</td></tr><tr><td>7</td><td>5</td><td>2015-07-31</td><td>15344</td><td>1414</td><td>1</td><td>1</td><td>0</td><td>1</td></tr><tr><td>8</td><td>5</td><td>2015-07-31</td><td>8492</td><td>833</td><td>1</td><td>1</td><td>0</td><td>1</td></tr><tr><td>9</td><td>5</td><td>2015-07-31</td><td>8565</td><td>687</td><td>1</td><td>1</td><td>0</td><td>1</td></tr><tr><td>10</td><td>5</td><td>2015-07-31</td><td>7185</td><td>681</td><td>1</td><td>1</td><td>0</td><td>1</td></tr></tbody></table></div>"
      ]
     },
     "metadata": {
      "application/vnd.databricks.v1+output": {
       "addedWidgets": {},
       "aggData": [],
       "aggError": "",
       "aggOverflow": false,
       "aggSchema": [],
       "aggSeriesLimitReached": false,
       "aggType": "",
       "arguments": {},
       "columnCustomDisplayInfos": {},
       "data": [
        [
         1,
         5,
         "2015-07-31",
         5263,
         555,
         1,
         1,
         "0",
         1
        ],
        [
         2,
         5,
         "2015-07-31",
         6064,
         625,
         1,
         1,
         "0",
         1
        ],
        [
         3,
         5,
         "2015-07-31",
         8314,
         821,
         1,
         1,
         "0",
         1
        ],
        [
         4,
         5,
         "2015-07-31",
         13995,
         1498,
         1,
         1,
         "0",
         1
        ],
        [
         5,
         5,
         "2015-07-31",
         4822,
         559,
         1,
         1,
         "0",
         1
        ],
        [
         6,
         5,
         "2015-07-31",
         5651,
         589,
         1,
         1,
         "0",
         1
        ],
        [
         7,
         5,
         "2015-07-31",
         15344,
         1414,
         1,
         1,
         "0",
         1
        ],
        [
         8,
         5,
         "2015-07-31",
         8492,
         833,
         1,
         1,
         "0",
         1
        ],
        [
         9,
         5,
         "2015-07-31",
         8565,
         687,
         1,
         1,
         "0",
         1
        ],
        [
         10,
         5,
         "2015-07-31",
         7185,
         681,
         1,
         1,
         "0",
         1
        ]
       ],
       "datasetInfos": [],
       "dbfsResultPath": null,
       "isJsonSchema": true,
       "metadata": {},
       "overflow": false,
       "plotOptions": {
        "customPlotOptions": {},
        "displayType": "table",
        "pivotAggregation": null,
        "pivotColumns": null,
        "xColumns": null,
        "yColumns": null
       },
       "removedWidgets": [],
       "schema": [
        {
         "metadata": "{}",
         "name": "Store",
         "type": "\"long\""
        },
        {
         "metadata": "{}",
         "name": "DayOfWeek",
         "type": "\"long\""
        },
        {
         "metadata": "{}",
         "name": "Date",
         "type": "\"date\""
        },
        {
         "metadata": "{}",
         "name": "Sales",
         "type": "\"long\""
        },
        {
         "metadata": "{}",
         "name": "Customers",
         "type": "\"long\""
        },
        {
         "metadata": "{}",
         "name": "Open",
         "type": "\"long\""
        },
        {
         "metadata": "{}",
         "name": "Promo",
         "type": "\"long\""
        },
        {
         "metadata": "{}",
         "name": "StateHoliday",
         "type": "\"string\""
        },
        {
         "metadata": "{}",
         "name": "SchoolHoliday",
         "type": "\"long\""
        }
       ],
       "type": "table"
      }
     },
     "output_type": "display_data"
    },
    {
     "output_type": "stream",
     "name": "stdout",
     "output_type": "stream",
     "text": [
      "root\n |-- Store: integer (nullable = true)\n |-- DayOfWeek: integer (nullable = true)\n |-- Date: date (nullable = true)\n |-- Sales: integer (nullable = true)\n |-- Customers: integer (nullable = true)\n |-- Open: integer (nullable = true)\n |-- Promo: integer (nullable = true)\n |-- StateHoliday: string (nullable = true)\n |-- SchoolHoliday: integer (nullable = true)\n\n"
     ]
    }
   ],
   "source": [
    "display(df.head(10))\n",
    "df.printSchema()"
   ]
  },
  {
   "cell_type": "code",
   "execution_count": 0,
   "metadata": {
    "application/vnd.databricks.v1+cell": {
     "cellMetadata": {
      "byteLimit": 2048000,
      "implicitDf": true,
      "rowLimit": 10000
     },
     "inputWidgets": {},
     "nuid": "11dcb4b9-d654-4bd3-9453-ad4739510d52",
     "showTitle": false,
     "tableResultSettingsMap": {},
     "title": ""
    }
   },
   "outputs": [
    {
     "output_type": "display_data",
     "data": {
      "text/html": [
       "<style scoped>\n",
       "  .table-result-container {\n",
       "    max-height: 300px;\n",
       "    overflow: auto;\n",
       "  }\n",
       "  table, th, td {\n",
       "    border: 1px solid black;\n",
       "    border-collapse: collapse;\n",
       "  }\n",
       "  th, td {\n",
       "    padding: 5px;\n",
       "  }\n",
       "  th {\n",
       "    text-align: left;\n",
       "  }\n",
       "</style><div class='table-result-container'><table class='table-result'><thead style='background-color: white'><tr><th>Store</th><th>DayOfWeek</th><th>Date</th><th>Sales</th><th>Customers</th><th>Open</th><th>Promo</th><th>StateHoliday</th><th>SchoolHoliday</th><th>SalePerCustomer</th></tr></thead><tbody><tr><td>1</td><td>5</td><td>2015-07-31</td><td>5263</td><td>555</td><td>1</td><td>1</td><td>0</td><td>1</td><td>9.48</td></tr><tr><td>2</td><td>5</td><td>2015-07-31</td><td>6064</td><td>625</td><td>1</td><td>1</td><td>0</td><td>1</td><td>9.7</td></tr><tr><td>3</td><td>5</td><td>2015-07-31</td><td>8314</td><td>821</td><td>1</td><td>1</td><td>0</td><td>1</td><td>10.13</td></tr><tr><td>4</td><td>5</td><td>2015-07-31</td><td>13995</td><td>1498</td><td>1</td><td>1</td><td>0</td><td>1</td><td>9.34</td></tr><tr><td>5</td><td>5</td><td>2015-07-31</td><td>4822</td><td>559</td><td>1</td><td>1</td><td>0</td><td>1</td><td>8.63</td></tr></tbody></table></div>"
      ]
     },
     "metadata": {
      "application/vnd.databricks.v1+output": {
       "addedWidgets": {},
       "aggData": [],
       "aggError": "",
       "aggOverflow": false,
       "aggSchema": [],
       "aggSeriesLimitReached": false,
       "aggType": "",
       "arguments": {},
       "columnCustomDisplayInfos": {},
       "data": [
        [
         1,
         5,
         "2015-07-31",
         5263,
         555,
         1,
         1,
         "0",
         1,
         9.48
        ],
        [
         2,
         5,
         "2015-07-31",
         6064,
         625,
         1,
         1,
         "0",
         1,
         9.7
        ],
        [
         3,
         5,
         "2015-07-31",
         8314,
         821,
         1,
         1,
         "0",
         1,
         10.13
        ],
        [
         4,
         5,
         "2015-07-31",
         13995,
         1498,
         1,
         1,
         "0",
         1,
         9.34
        ],
        [
         5,
         5,
         "2015-07-31",
         4822,
         559,
         1,
         1,
         "0",
         1,
         8.63
        ]
       ],
       "datasetInfos": [],
       "dbfsResultPath": null,
       "isJsonSchema": true,
       "metadata": {},
       "overflow": false,
       "plotOptions": {
        "customPlotOptions": {},
        "displayType": "table",
        "pivotAggregation": null,
        "pivotColumns": null,
        "xColumns": null,
        "yColumns": null
       },
       "removedWidgets": [],
       "schema": [
        {
         "metadata": "{}",
         "name": "Store",
         "type": "\"long\""
        },
        {
         "metadata": "{}",
         "name": "DayOfWeek",
         "type": "\"long\""
        },
        {
         "metadata": "{}",
         "name": "Date",
         "type": "\"date\""
        },
        {
         "metadata": "{}",
         "name": "Sales",
         "type": "\"long\""
        },
        {
         "metadata": "{}",
         "name": "Customers",
         "type": "\"long\""
        },
        {
         "metadata": "{}",
         "name": "Open",
         "type": "\"long\""
        },
        {
         "metadata": "{}",
         "name": "Promo",
         "type": "\"long\""
        },
        {
         "metadata": "{}",
         "name": "StateHoliday",
         "type": "\"string\""
        },
        {
         "metadata": "{}",
         "name": "SchoolHoliday",
         "type": "\"long\""
        },
        {
         "metadata": "{}",
         "name": "SalePerCustomer",
         "type": "\"double\""
        }
       ],
       "type": "table"
      }
     },
     "output_type": "display_data"
    },
    {
     "output_type": "stream",
     "name": "stdout",
     "output_type": "stream",
     "text": [
      "+-------+-----------------+\n|summary|  SalePerCustomer|\n+-------+-----------------+\n|  count|           844340|\n|   mean|9.493638285524783|\n| stddev|2.197496666048751|\n|    min|              0.0|\n|    max|            64.96|\n+-------+-----------------+\n\n"
     ]
    }
   ],
   "source": [
    "df = df.withColumn(\n",
    "    \"SalePerCustomer\", F.round(F.col(\"Sales\")/F.col(\"Customers\"), 2)\n",
    ")\n",
    "display(df.head(5))\n",
    "\n",
    "df.select(F.col(\"SalePerCustomer\")).describe().show()"
   ]
  },
  {
   "cell_type": "code",
   "execution_count": 0,
   "metadata": {
    "application/vnd.databricks.v1+cell": {
     "cellMetadata": {
      "byteLimit": 2048000,
      "rowLimit": 10000
     },
     "inputWidgets": {},
     "nuid": "e8a90cb7-7e46-4601-b9a6-897c34dac16e",
     "showTitle": false,
     "tableResultSettingsMap": {},
     "title": ""
    }
   },
   "outputs": [
    {
     "output_type": "stream",
     "name": "stdout",
     "output_type": "stream",
     "text": [
      "172817"
     ]
    }
   ],
   "source": [
    "display(\n",
    "    df.filter(\n",
    "    (F.col(\"Open\") == 0) &\n",
    "    (F.col(\"Sales\") == 0)\n",
    ").count()\n",
    ")"
   ]
  },
  {
   "cell_type": "code",
   "execution_count": 0,
   "metadata": {
    "application/vnd.databricks.v1+cell": {
     "cellMetadata": {
      "byteLimit": 2048000,
      "rowLimit": 10000
     },
     "inputWidgets": {},
     "nuid": "3790dd21-7a19-4c7c-92f3-fc63074ee25e",
     "showTitle": false,
     "tableResultSettingsMap": {},
     "title": ""
    }
   },
   "outputs": [],
   "source": [
    "df = df.filter(~(\n",
    "    (F.col(\"Open\") == 0) &\n",
    "    (F.col(\"Sales\") == 0)\n",
    ")\n",
    ")"
   ]
  },
  {
   "cell_type": "code",
   "execution_count": 0,
   "metadata": {
    "application/vnd.databricks.v1+cell": {
     "cellMetadata": {
      "byteLimit": 2048000,
      "rowLimit": 10000
     },
     "inputWidgets": {},
     "nuid": "1cfdce7a-a63a-4206-8a5a-4659a89fa74f",
     "showTitle": false,
     "tableResultSettingsMap": {},
     "title": ""
    }
   },
   "outputs": [
    {
     "output_type": "stream",
     "name": "stdout",
     "output_type": "stream",
     "text": [
      "54"
     ]
    }
   ],
   "source": [
    "display(\n",
    "    df.filter(\n",
    "    (F.col(\"Open\") == 1) &\n",
    "    (F.col(\"Sales\") == 0)\n",
    ").count()\n",
    ")"
   ]
  },
  {
   "cell_type": "code",
   "execution_count": 0,
   "metadata": {
    "application/vnd.databricks.v1+cell": {
     "cellMetadata": {
      "byteLimit": 2048000,
      "rowLimit": 10000
     },
     "inputWidgets": {},
     "nuid": "eb64c2e4-387e-4c32-8186-2f0fde15da6d",
     "showTitle": false,
     "tableResultSettingsMap": {},
     "title": ""
    }
   },
   "outputs": [],
   "source": [
    "df = df.filter((\n",
    "    (F.col(\"Open\") != 0) &\n",
    "    (F.col(\"Sales\") != 0)\n",
    ")\n",
    ")"
   ]
  },
  {
   "cell_type": "code",
   "execution_count": 0,
   "metadata": {
    "application/vnd.databricks.v1+cell": {
     "cellMetadata": {
      "byteLimit": 2048000,
      "rowLimit": 10000
     },
     "inputWidgets": {},
     "nuid": "5cb3701f-24a9-4df6-802e-c15232e9347b",
     "showTitle": false,
     "tableResultSettingsMap": {},
     "title": ""
    }
   },
   "outputs": [
    {
     "output_type": "stream",
     "name": "stdout",
     "output_type": "stream",
     "text": [
      "0"
     ]
    }
   ],
   "source": [
    "display(\n",
    "    df.filter(\n",
    "    (F.col(\"Open\") == 1) &\n",
    "    (F.col(\"Sales\") == 0)\n",
    ").count()\n",
    ")"
   ]
  },
  {
   "cell_type": "code",
   "execution_count": 0,
   "metadata": {
    "application/vnd.databricks.v1+cell": {
     "cellMetadata": {
      "byteLimit": 2048000,
      "rowLimit": 10000
     },
     "inputWidgets": {},
     "nuid": "c057e995-68ed-4e53-9460-a51411f88dbe",
     "showTitle": false,
     "tableResultSettingsMap": {},
     "title": ""
    }
   },
   "outputs": [
    {
     "output_type": "display_data",
     "data": {
      "text/html": [
       "<style scoped>\n",
       "  .table-result-container {\n",
       "    max-height: 300px;\n",
       "    overflow: auto;\n",
       "  }\n",
       "  table, th, td {\n",
       "    border: 1px solid black;\n",
       "    border-collapse: collapse;\n",
       "  }\n",
       "  th, td {\n",
       "    padding: 5px;\n",
       "  }\n",
       "  th {\n",
       "    text-align: left;\n",
       "  }\n",
       "</style><div class='table-result-container'><table class='table-result'><thead style='background-color: white'><tr><th>summary</th><th>Store</th><th>DayOfWeek</th><th>Sales</th><th>Customers</th><th>Open</th><th>Promo</th><th>StateHoliday</th><th>SchoolHoliday</th><th>SalePerCustomer</th></tr></thead><tbody><tr><td>count</td><td>844338</td><td>844338</td><td>844338</td><td>844338</td><td>844338</td><td>844338</td><td>844338</td><td>844338</td><td>844338</td></tr><tr><td>mean</td><td>558.4213739047633</td><td>3.5203496703926627</td><td>6955.959133664481</td><td>762.777166253325</td><td>1.0</td><td>0.4463556064040704</td><td>0.0</td><td>0.19357769045098053</td><td>9.493660773292207</td></tr><tr><td>stddev</td><td>321.73086140626936</td><td>1.7237123646860368</td><td>3103.8155154905558</td><td>401.19415256680463</td><td>0.0</td><td>0.49711424413083166</td><td>0.0</td><td>0.39510195278660487</td><td>2.19745069213118</td></tr><tr><td>min</td><td>1</td><td>1</td><td>46</td><td>8</td><td>1</td><td>0</td><td>0</td><td>0</td><td>2.75</td></tr><tr><td>max</td><td>1115</td><td>7</td><td>41551</td><td>7388</td><td>1</td><td>1</td><td>c</td><td>1</td><td>64.96</td></tr></tbody></table></div>"
      ]
     },
     "metadata": {
      "application/vnd.databricks.v1+output": {
       "addedWidgets": {},
       "aggData": [],
       "aggError": "",
       "aggOverflow": false,
       "aggSchema": [],
       "aggSeriesLimitReached": false,
       "aggType": "",
       "arguments": {},
       "columnCustomDisplayInfos": {},
       "data": [
        [
         "count",
         "844338",
         "844338",
         "844338",
         "844338",
         "844338",
         "844338",
         "844338",
         "844338",
         "844338"
        ],
        [
         "mean",
         "558.4213739047633",
         "3.5203496703926627",
         "6955.959133664481",
         "762.777166253325",
         "1.0",
         "0.4463556064040704",
         "0.0",
         "0.19357769045098053",
         "9.493660773292207"
        ],
        [
         "stddev",
         "321.73086140626936",
         "1.7237123646860368",
         "3103.8155154905558",
         "401.19415256680463",
         "0.0",
         "0.49711424413083166",
         "0.0",
         "0.39510195278660487",
         "2.19745069213118"
        ],
        [
         "min",
         "1",
         "1",
         "46",
         "8",
         "1",
         "0",
         "0",
         "0",
         "2.75"
        ],
        [
         "max",
         "1115",
         "7",
         "41551",
         "7388",
         "1",
         "1",
         "c",
         "1",
         "64.96"
        ]
       ],
       "datasetInfos": [],
       "dbfsResultPath": null,
       "isJsonSchema": true,
       "metadata": {},
       "overflow": false,
       "plotOptions": {
        "customPlotOptions": {},
        "displayType": "table",
        "pivotAggregation": null,
        "pivotColumns": null,
        "xColumns": null,
        "yColumns": null
       },
       "removedWidgets": [],
       "schema": [
        {
         "metadata": "{}",
         "name": "summary",
         "type": "\"string\""
        },
        {
         "metadata": "{}",
         "name": "Store",
         "type": "\"string\""
        },
        {
         "metadata": "{}",
         "name": "DayOfWeek",
         "type": "\"string\""
        },
        {
         "metadata": "{}",
         "name": "Sales",
         "type": "\"string\""
        },
        {
         "metadata": "{}",
         "name": "Customers",
         "type": "\"string\""
        },
        {
         "metadata": "{}",
         "name": "Open",
         "type": "\"string\""
        },
        {
         "metadata": "{}",
         "name": "Promo",
         "type": "\"string\""
        },
        {
         "metadata": "{}",
         "name": "StateHoliday",
         "type": "\"string\""
        },
        {
         "metadata": "{}",
         "name": "SchoolHoliday",
         "type": "\"string\""
        },
        {
         "metadata": "{}",
         "name": "SalePerCustomer",
         "type": "\"string\""
        }
       ],
       "type": "table"
      }
     },
     "output_type": "display_data"
    }
   ],
   "source": [
    "display(df.describe())"
   ]
  },
  {
   "cell_type": "code",
   "execution_count": 0,
   "metadata": {
    "application/vnd.databricks.v1+cell": {
     "cellMetadata": {},
     "inputWidgets": {},
     "nuid": "ad7c673f-9f02-45a6-be59-706c479eae24",
     "showTitle": false,
     "tableResultSettingsMap": {},
     "title": ""
    }
   },
   "outputs": [],
   "source": []
  }
 ],
 "metadata": {
  "application/vnd.databricks.v1+notebook": {
   "computePreferences": null,
   "dashboards": [],
   "environmentMetadata": {
    "base_environment": "",
    "environment_version": "1"
   },
   "inputWidgetPreferences": null,
   "language": "python",
   "notebookMetadata": {
    "mostRecentlyExecutedCommandWithImplicitDF": {
     "commandId": -1,
     "dataframes": [
      "_sqldf"
     ]
    },
    "pythonIndentUnit": 4
   },
   "notebookName": "Test",
   "widgets": {}
  }
 },
 "nbformat": 4,
 "nbformat_minor": 0
}