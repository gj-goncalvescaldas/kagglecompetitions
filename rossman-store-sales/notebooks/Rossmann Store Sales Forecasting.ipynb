{
 "cells": [
  {
   "cell_type": "markdown",
   "metadata": {
    "application/vnd.databricks.v1+cell": {
     "cellMetadata": {
      "byteLimit": 2048000,
      "rowLimit": 10000
     },
     "inputWidgets": {},
     "nuid": "6a8b75ad-a2f6-4c49-9a97-c14b67c64629",
     "showTitle": false,
     "tableResultSettingsMap": {},
     "title": ""
    }
   },
   "source": [
    "\n",
    "# 🧠 Rossmann Store Sales Forecasting with Apache Spark\n",
    "\n",
    "## 📍 Problem Description\n",
    "\n",
    "Rossmann operates over 3,000 drug stores across 7 European countries. In this project, I take on the challenge of forecasting daily sales for 1,115 stores located in Germany, over a six-week period.\n",
    "\n",
    "Sales are influenced by a wide range of factors, including:\n",
    "\n",
    "- Promotions and marketing campaigns  \n",
    "- Local competition  \n",
    "- School and public holidays  \n",
    "- Seasonality and events  \n",
    "- Store-specific and geographic characteristics\n",
    "\n",
    "## 🎯 Project Objective\n",
    "\n",
    "As a solo data practitioner, my goal is to build a scalable and reliable forecasting model using **Apache Spark** within the **Databricks Community Edition** environment.\n",
    "\n",
    "This notebook will serve as a complete, end-to-end pipeline — from data cleaning and exploration, through feature engineering and modeling, to performance evaluation — all executed with **PySpark**.\n",
    "\n",
    "## 💡 Why This Matters\n",
    "\n",
    "Accurate forecasts help Rossmann store managers to:\n",
    "\n",
    "- Plan staff schedules more effectively  \n",
    "- Boost operational productivity  \n",
    "- Improve team morale  \n",
    "- Deliver better customer service  \n",
    "\n",
    "By building this predictive solution, I aim to support data-driven decision-making and demonstrate the practical use of big data tools in real-world retail operations.\n",
    "\n",
    "---\n",
    "\n",
    "This is a personal project designed to enhance my skills in **data engineering**, **machine learning**, and **big data analytics** using **Spark**.\n"
   ]
  },
  {
   "cell_type": "markdown",
   "metadata": {
    "application/vnd.databricks.v1+cell": {
     "cellMetadata": {
      "byteLimit": 2048000,
      "rowLimit": 10000
     },
     "inputWidgets": {},
     "nuid": "44f7fef6-b5cb-45e7-831c-b27247d5c9f7",
     "showTitle": false,
     "tableResultSettingsMap": {},
     "title": ""
    }
   },
   "source": [
    "# Imports"
   ]
  },
  {
   "cell_type": "code",
   "execution_count": 0,
   "metadata": {
    "application/vnd.databricks.v1+cell": {
     "cellMetadata": {
      "byteLimit": 2048000,
      "rowLimit": 10000
     },
     "inputWidgets": {},
     "nuid": "7d14d559-cd36-4aae-abe3-dded4254e874",
     "showTitle": false,
     "tableResultSettingsMap": {},
     "title": ""
    }
   },
   "outputs": [],
   "source": [
    "from pyspark.sql import functions as F\n",
    "import pandas as pd\n",
    "import os\n",
    "import glob\n",
    "from pyspark.sql.functions import lit"
   ]
  },
  {
   "cell_type": "markdown",
   "metadata": {
    "application/vnd.databricks.v1+cell": {
     "cellMetadata": {
      "byteLimit": 2048000,
      "rowLimit": 10000
     },
     "inputWidgets": {},
     "nuid": "6dbc2614-30b5-4a43-9166-0c2cf8ebeb4a",
     "showTitle": false,
     "tableResultSettingsMap": {},
     "title": ""
    }
   },
   "source": [
    "# Functions"
   ]
  },
  {
   "cell_type": "code",
   "execution_count": 0,
   "metadata": {
    "application/vnd.databricks.v1+cell": {
     "cellMetadata": {
      "byteLimit": 2048000,
      "rowLimit": 10000
     },
     "inputWidgets": {},
     "nuid": "a00b8c7b-59ca-4bf8-8b96-100d5a9c7f33",
     "showTitle": false,
     "tableResultSettingsMap": {},
     "title": ""
    }
   },
   "outputs": [],
   "source": [
    "def see_nulls(df):\n",
    "    null_counts_row = df.select([F.count(F.when(F.col(c).isNull(), c)).alias(c) for c in df.columns]).first().asDict()\n",
    "    non_zero_nulls = {k: v for k, v in null_counts_row.items() if v > 0}\n",
    "    return non_zero_nulls"
   ]
  },
  {
   "cell_type": "code",
   "execution_count": 0,
   "metadata": {
    "application/vnd.databricks.v1+cell": {
     "cellMetadata": {
      "byteLimit": 2048000,
      "rowLimit": 10000
     },
     "inputWidgets": {},
     "nuid": "d3d3a188-c090-4fe5-b016-7cac4c65396c",
     "showTitle": false,
     "tableResultSettingsMap": {},
     "title": ""
    }
   },
   "outputs": [],
   "source": [
    "def read_with_state(spark_path):\n",
    "    filename = os.path.basename(spark_path)\n",
    "    state_code = filename.replace(\"Rossmann_\", \"\").replace(\".csv\", \"\")\n",
    "    \n",
    "    if state_code == \"DE\":\n",
    "        return spark.read.option(\"header\", True).csv(spark_path).withColumn(\"State\", F.lit(\"DE\"))\n",
    "    #elif state_code == \"NI\":\n",
    "     #   return spark.read.option(\"header\", True).csv(spark_path).withColumn(\"State\", F.lit(\"HB,NI\"))\n",
    "    else:\n",
    "        return spark.read.option(\"header\", True).csv(spark_path).withColumn(\"State\", F.lit(state_code))\n"
   ]
  },
  {
   "cell_type": "code",
   "execution_count": 0,
   "metadata": {
    "application/vnd.databricks.v1+cell": {
     "cellMetadata": {
      "byteLimit": 2048000,
      "rowLimit": 10000
     },
     "inputWidgets": {},
     "nuid": "15b691cd-befc-48ce-9f60-3a38660fdc58",
     "showTitle": false,
     "tableResultSettingsMap": {},
     "title": ""
    }
   },
   "outputs": [],
   "source": [
    "def process_train_test(df):\n",
    "    return df.fillna({\"Open\": 0}) \\\n",
    "        .withColumn(\"week_of_year\", F.weekofyear(F.col(\"Date\"))) \\\n",
    "        .withColumn(\"year\", F.year(F.col(\"Date\"))) \\\n",
    "        .withColumn(\"month\", F.month(F.col(\"Date\"))) \\\n",
    "        .withColumn(\"day\", F.dayofmonth(F.col(\"Date\")))"
   ]
  },
  {
   "cell_type": "markdown",
   "metadata": {
    "application/vnd.databricks.v1+cell": {
     "cellMetadata": {
      "byteLimit": 2048000,
      "rowLimit": 10000
     },
     "inputWidgets": {},
     "nuid": "de4fb0cd-ba76-4854-8438-c3a0c0f5b278",
     "showTitle": false,
     "tableResultSettingsMap": {},
     "title": ""
    }
   },
   "source": [
    "# Competition Data"
   ]
  },
  {
   "cell_type": "code",
   "execution_count": 0,
   "metadata": {
    "application/vnd.databricks.v1+cell": {
     "cellMetadata": {
      "byteLimit": 2048000,
      "rowLimit": 10000
     },
     "inputWidgets": {},
     "nuid": "f3b45d5f-4242-45b0-8180-fa550d77ebff",
     "showTitle": false,
     "tableResultSettingsMap": {},
     "title": ""
    }
   },
   "outputs": [
    {
     "output_type": "display_data",
     "data": {
      "text/html": [
       "<style scoped>\n",
       "  .table-result-container {\n",
       "    max-height: 300px;\n",
       "    overflow: auto;\n",
       "  }\n",
       "  table, th, td {\n",
       "    border: 1px solid black;\n",
       "    border-collapse: collapse;\n",
       "  }\n",
       "  th, td {\n",
       "    padding: 5px;\n",
       "  }\n",
       "  th {\n",
       "    text-align: left;\n",
       "  }\n",
       "</style><div class='table-result-container'><table class='table-result'><thead style='background-color: white'><tr><th>Store</th><th>DayOfWeek</th><th>Date</th><th>Sales</th><th>Customers</th><th>Open</th><th>Promo</th><th>StateHoliday</th><th>SchoolHoliday</th></tr></thead><tbody><tr><td>1</td><td>5</td><td>2015-07-31</td><td>5263</td><td>555</td><td>1</td><td>1</td><td>0</td><td>1</td></tr><tr><td>2</td><td>5</td><td>2015-07-31</td><td>6064</td><td>625</td><td>1</td><td>1</td><td>0</td><td>1</td></tr><tr><td>3</td><td>5</td><td>2015-07-31</td><td>8314</td><td>821</td><td>1</td><td>1</td><td>0</td><td>1</td></tr><tr><td>4</td><td>5</td><td>2015-07-31</td><td>13995</td><td>1498</td><td>1</td><td>1</td><td>0</td><td>1</td></tr><tr><td>5</td><td>5</td><td>2015-07-31</td><td>4822</td><td>559</td><td>1</td><td>1</td><td>0</td><td>1</td></tr><tr><td>6</td><td>5</td><td>2015-07-31</td><td>5651</td><td>589</td><td>1</td><td>1</td><td>0</td><td>1</td></tr><tr><td>7</td><td>5</td><td>2015-07-31</td><td>15344</td><td>1414</td><td>1</td><td>1</td><td>0</td><td>1</td></tr><tr><td>8</td><td>5</td><td>2015-07-31</td><td>8492</td><td>833</td><td>1</td><td>1</td><td>0</td><td>1</td></tr><tr><td>9</td><td>5</td><td>2015-07-31</td><td>8565</td><td>687</td><td>1</td><td>1</td><td>0</td><td>1</td></tr><tr><td>10</td><td>5</td><td>2015-07-31</td><td>7185</td><td>681</td><td>1</td><td>1</td><td>0</td><td>1</td></tr></tbody></table></div>"
      ]
     },
     "metadata": {
      "application/vnd.databricks.v1+output": {
       "addedWidgets": {},
       "aggData": [],
       "aggError": "",
       "aggOverflow": false,
       "aggSchema": [],
       "aggSeriesLimitReached": false,
       "aggType": "",
       "arguments": {},
       "columnCustomDisplayInfos": {},
       "data": [
        [
         1,
         5,
         "2015-07-31",
         5263,
         555,
         1,
         1,
         "0",
         1
        ],
        [
         2,
         5,
         "2015-07-31",
         6064,
         625,
         1,
         1,
         "0",
         1
        ],
        [
         3,
         5,
         "2015-07-31",
         8314,
         821,
         1,
         1,
         "0",
         1
        ],
        [
         4,
         5,
         "2015-07-31",
         13995,
         1498,
         1,
         1,
         "0",
         1
        ],
        [
         5,
         5,
         "2015-07-31",
         4822,
         559,
         1,
         1,
         "0",
         1
        ],
        [
         6,
         5,
         "2015-07-31",
         5651,
         589,
         1,
         1,
         "0",
         1
        ],
        [
         7,
         5,
         "2015-07-31",
         15344,
         1414,
         1,
         1,
         "0",
         1
        ],
        [
         8,
         5,
         "2015-07-31",
         8492,
         833,
         1,
         1,
         "0",
         1
        ],
        [
         9,
         5,
         "2015-07-31",
         8565,
         687,
         1,
         1,
         "0",
         1
        ],
        [
         10,
         5,
         "2015-07-31",
         7185,
         681,
         1,
         1,
         "0",
         1
        ]
       ],
       "datasetInfos": [],
       "dbfsResultPath": null,
       "isJsonSchema": true,
       "metadata": {},
       "overflow": false,
       "plotOptions": {
        "customPlotOptions": {},
        "displayType": "table",
        "pivotAggregation": null,
        "pivotColumns": null,
        "xColumns": null,
        "yColumns": null
       },
       "removedWidgets": [],
       "schema": [
        {
         "metadata": "{}",
         "name": "Store",
         "type": "\"long\""
        },
        {
         "metadata": "{}",
         "name": "DayOfWeek",
         "type": "\"long\""
        },
        {
         "metadata": "{}",
         "name": "Date",
         "type": "\"date\""
        },
        {
         "metadata": "{}",
         "name": "Sales",
         "type": "\"long\""
        },
        {
         "metadata": "{}",
         "name": "Customers",
         "type": "\"long\""
        },
        {
         "metadata": "{}",
         "name": "Open",
         "type": "\"long\""
        },
        {
         "metadata": "{}",
         "name": "Promo",
         "type": "\"long\""
        },
        {
         "metadata": "{}",
         "name": "StateHoliday",
         "type": "\"string\""
        },
        {
         "metadata": "{}",
         "name": "SchoolHoliday",
         "type": "\"long\""
        }
       ],
       "type": "table"
      }
     },
     "output_type": "display_data"
    },
    {
     "output_type": "stream",
     "name": "stdout",
     "output_type": "stream",
     "text": [
      "root\n |-- Store: integer (nullable = true)\n |-- DayOfWeek: integer (nullable = true)\n |-- Date: date (nullable = true)\n |-- Sales: integer (nullable = true)\n |-- Customers: integer (nullable = true)\n |-- Open: integer (nullable = true)\n |-- Promo: integer (nullable = true)\n |-- StateHoliday: string (nullable = true)\n |-- SchoolHoliday: integer (nullable = true)\n\n"
     ]
    }
   ],
   "source": [
    "df_train = spark.read.option(\"Header\", True).option(\"InferSchema\", True).csv(\"/FileStore/tables/train.csv\")\n",
    "display(df_train.head(10))\n",
    "\n",
    "df_train.printSchema()\n"
   ]
  },
  {
   "cell_type": "code",
   "execution_count": 0,
   "metadata": {
    "application/vnd.databricks.v1+cell": {
     "cellMetadata": {
      "byteLimit": 2048000,
      "rowLimit": 10000
     },
     "inputWidgets": {},
     "nuid": "a94d8bd3-cea8-426e-8e0c-1814f671ca3f",
     "showTitle": false,
     "tableResultSettingsMap": {},
     "title": ""
    }
   },
   "outputs": [
    {
     "output_type": "display_data",
     "data": {
      "text/html": [
       "<style scoped>\n",
       "  .table-result-container {\n",
       "    max-height: 300px;\n",
       "    overflow: auto;\n",
       "  }\n",
       "  table, th, td {\n",
       "    border: 1px solid black;\n",
       "    border-collapse: collapse;\n",
       "  }\n",
       "  th, td {\n",
       "    padding: 5px;\n",
       "  }\n",
       "  th {\n",
       "    text-align: left;\n",
       "  }\n",
       "</style><div class='table-result-container'><table class='table-result'><thead style='background-color: white'><tr><th>Store</th><th>StoreType</th><th>Assortment</th><th>CompetitionDistance</th><th>CompetitionOpenSinceMonth</th><th>CompetitionOpenSinceYear</th><th>Promo2</th><th>Promo2SinceWeek</th><th>Promo2SinceYear</th><th>PromoInterval</th></tr></thead><tbody><tr><td>1</td><td>c</td><td>a</td><td>1270</td><td>9</td><td>2008</td><td>0</td><td>null</td><td>null</td><td>null</td></tr><tr><td>2</td><td>a</td><td>a</td><td>570</td><td>11</td><td>2007</td><td>1</td><td>13</td><td>2010</td><td>Jan,Apr,Jul,Oct</td></tr><tr><td>3</td><td>a</td><td>a</td><td>14130</td><td>12</td><td>2006</td><td>1</td><td>14</td><td>2011</td><td>Jan,Apr,Jul,Oct</td></tr><tr><td>4</td><td>c</td><td>c</td><td>620</td><td>9</td><td>2009</td><td>0</td><td>null</td><td>null</td><td>null</td></tr><tr><td>5</td><td>a</td><td>a</td><td>29910</td><td>4</td><td>2015</td><td>0</td><td>null</td><td>null</td><td>null</td></tr><tr><td>6</td><td>a</td><td>a</td><td>310</td><td>12</td><td>2013</td><td>0</td><td>null</td><td>null</td><td>null</td></tr><tr><td>7</td><td>a</td><td>c</td><td>24000</td><td>4</td><td>2013</td><td>0</td><td>null</td><td>null</td><td>null</td></tr><tr><td>8</td><td>a</td><td>a</td><td>7520</td><td>10</td><td>2014</td><td>0</td><td>null</td><td>null</td><td>null</td></tr><tr><td>9</td><td>a</td><td>c</td><td>2030</td><td>8</td><td>2000</td><td>0</td><td>null</td><td>null</td><td>null</td></tr><tr><td>10</td><td>a</td><td>a</td><td>3160</td><td>9</td><td>2009</td><td>0</td><td>null</td><td>null</td><td>null</td></tr></tbody></table></div>"
      ]
     },
     "metadata": {
      "application/vnd.databricks.v1+output": {
       "addedWidgets": {},
       "aggData": [],
       "aggError": "",
       "aggOverflow": false,
       "aggSchema": [],
       "aggSeriesLimitReached": false,
       "aggType": "",
       "arguments": {},
       "columnCustomDisplayInfos": {},
       "data": [
        [
         1,
         "c",
         "a",
         1270,
         9,
         2008,
         0,
         null,
         null,
         null
        ],
        [
         2,
         "a",
         "a",
         570,
         11,
         2007,
         1,
         13,
         2010,
         "Jan,Apr,Jul,Oct"
        ],
        [
         3,
         "a",
         "a",
         14130,
         12,
         2006,
         1,
         14,
         2011,
         "Jan,Apr,Jul,Oct"
        ],
        [
         4,
         "c",
         "c",
         620,
         9,
         2009,
         0,
         null,
         null,
         null
        ],
        [
         5,
         "a",
         "a",
         29910,
         4,
         2015,
         0,
         null,
         null,
         null
        ],
        [
         6,
         "a",
         "a",
         310,
         12,
         2013,
         0,
         null,
         null,
         null
        ],
        [
         7,
         "a",
         "c",
         24000,
         4,
         2013,
         0,
         null,
         null,
         null
        ],
        [
         8,
         "a",
         "a",
         7520,
         10,
         2014,
         0,
         null,
         null,
         null
        ],
        [
         9,
         "a",
         "c",
         2030,
         8,
         2000,
         0,
         null,
         null,
         null
        ],
        [
         10,
         "a",
         "a",
         3160,
         9,
         2009,
         0,
         null,
         null,
         null
        ]
       ],
       "datasetInfos": [],
       "dbfsResultPath": null,
       "isJsonSchema": true,
       "metadata": {},
       "overflow": false,
       "plotOptions": {
        "customPlotOptions": {},
        "displayType": "table",
        "pivotAggregation": null,
        "pivotColumns": null,
        "xColumns": null,
        "yColumns": null
       },
       "removedWidgets": [],
       "schema": [
        {
         "metadata": "{}",
         "name": "Store",
         "type": "\"long\""
        },
        {
         "metadata": "{}",
         "name": "StoreType",
         "type": "\"string\""
        },
        {
         "metadata": "{}",
         "name": "Assortment",
         "type": "\"string\""
        },
        {
         "metadata": "{}",
         "name": "CompetitionDistance",
         "type": "\"long\""
        },
        {
         "metadata": "{}",
         "name": "CompetitionOpenSinceMonth",
         "type": "\"long\""
        },
        {
         "metadata": "{}",
         "name": "CompetitionOpenSinceYear",
         "type": "\"long\""
        },
        {
         "metadata": "{}",
         "name": "Promo2",
         "type": "\"long\""
        },
        {
         "metadata": "{}",
         "name": "Promo2SinceWeek",
         "type": "\"long\""
        },
        {
         "metadata": "{}",
         "name": "Promo2SinceYear",
         "type": "\"long\""
        },
        {
         "metadata": "{}",
         "name": "PromoInterval",
         "type": "\"string\""
        }
       ],
       "type": "table"
      }
     },
     "output_type": "display_data"
    },
    {
     "output_type": "stream",
     "name": "stdout",
     "output_type": "stream",
     "text": [
      "root\n |-- Store: integer (nullable = true)\n |-- StoreType: string (nullable = true)\n |-- Assortment: string (nullable = true)\n |-- CompetitionDistance: integer (nullable = true)\n |-- CompetitionOpenSinceMonth: integer (nullable = true)\n |-- CompetitionOpenSinceYear: integer (nullable = true)\n |-- Promo2: integer (nullable = true)\n |-- Promo2SinceWeek: integer (nullable = true)\n |-- Promo2SinceYear: integer (nullable = true)\n |-- PromoInterval: string (nullable = true)\n\n"
     ]
    }
   ],
   "source": [
    "df_store = spark.read.option(\"Header\", True).option(\"InferSchema\", True).csv(\"/FileStore/tables/store.csv\")\n",
    "display(df_store.head(10))\n",
    "\n",
    "df_store.printSchema()"
   ]
  },
  {
   "cell_type": "code",
   "execution_count": 0,
   "metadata": {
    "application/vnd.databricks.v1+cell": {
     "cellMetadata": {
      "byteLimit": 2048000,
      "rowLimit": 10000
     },
     "inputWidgets": {},
     "nuid": "08ab8889-9600-420e-abb0-402e59bb9646",
     "showTitle": false,
     "tableResultSettingsMap": {},
     "title": ""
    }
   },
   "outputs": [
    {
     "output_type": "display_data",
     "data": {
      "text/html": [
       "<style scoped>\n",
       "  .table-result-container {\n",
       "    max-height: 300px;\n",
       "    overflow: auto;\n",
       "  }\n",
       "  table, th, td {\n",
       "    border: 1px solid black;\n",
       "    border-collapse: collapse;\n",
       "  }\n",
       "  th, td {\n",
       "    padding: 5px;\n",
       "  }\n",
       "  th {\n",
       "    text-align: left;\n",
       "  }\n",
       "</style><div class='table-result-container'><table class='table-result'><thead style='background-color: white'><tr><th>Id</th><th>Store</th><th>DayOfWeek</th><th>Date</th><th>Open</th><th>Promo</th><th>StateHoliday</th><th>SchoolHoliday</th></tr></thead><tbody><tr><td>1</td><td>1</td><td>4</td><td>2015-09-17</td><td>1</td><td>1</td><td>0</td><td>0</td></tr><tr><td>2</td><td>3</td><td>4</td><td>2015-09-17</td><td>1</td><td>1</td><td>0</td><td>0</td></tr><tr><td>3</td><td>7</td><td>4</td><td>2015-09-17</td><td>1</td><td>1</td><td>0</td><td>0</td></tr><tr><td>4</td><td>8</td><td>4</td><td>2015-09-17</td><td>1</td><td>1</td><td>0</td><td>0</td></tr><tr><td>5</td><td>9</td><td>4</td><td>2015-09-17</td><td>1</td><td>1</td><td>0</td><td>0</td></tr><tr><td>6</td><td>10</td><td>4</td><td>2015-09-17</td><td>1</td><td>1</td><td>0</td><td>0</td></tr><tr><td>7</td><td>11</td><td>4</td><td>2015-09-17</td><td>1</td><td>1</td><td>0</td><td>0</td></tr><tr><td>8</td><td>12</td><td>4</td><td>2015-09-17</td><td>1</td><td>1</td><td>0</td><td>0</td></tr><tr><td>9</td><td>13</td><td>4</td><td>2015-09-17</td><td>1</td><td>1</td><td>0</td><td>0</td></tr><tr><td>10</td><td>14</td><td>4</td><td>2015-09-17</td><td>1</td><td>1</td><td>0</td><td>0</td></tr></tbody></table></div>"
      ]
     },
     "metadata": {
      "application/vnd.databricks.v1+output": {
       "addedWidgets": {},
       "aggData": [],
       "aggError": "",
       "aggOverflow": false,
       "aggSchema": [],
       "aggSeriesLimitReached": false,
       "aggType": "",
       "arguments": {},
       "columnCustomDisplayInfos": {},
       "data": [
        [
         1,
         1,
         4,
         "2015-09-17",
         1,
         1,
         "0",
         0
        ],
        [
         2,
         3,
         4,
         "2015-09-17",
         1,
         1,
         "0",
         0
        ],
        [
         3,
         7,
         4,
         "2015-09-17",
         1,
         1,
         "0",
         0
        ],
        [
         4,
         8,
         4,
         "2015-09-17",
         1,
         1,
         "0",
         0
        ],
        [
         5,
         9,
         4,
         "2015-09-17",
         1,
         1,
         "0",
         0
        ],
        [
         6,
         10,
         4,
         "2015-09-17",
         1,
         1,
         "0",
         0
        ],
        [
         7,
         11,
         4,
         "2015-09-17",
         1,
         1,
         "0",
         0
        ],
        [
         8,
         12,
         4,
         "2015-09-17",
         1,
         1,
         "0",
         0
        ],
        [
         9,
         13,
         4,
         "2015-09-17",
         1,
         1,
         "0",
         0
        ],
        [
         10,
         14,
         4,
         "2015-09-17",
         1,
         1,
         "0",
         0
        ]
       ],
       "datasetInfos": [],
       "dbfsResultPath": null,
       "isJsonSchema": true,
       "metadata": {},
       "overflow": false,
       "plotOptions": {
        "customPlotOptions": {},
        "displayType": "table",
        "pivotAggregation": null,
        "pivotColumns": null,
        "xColumns": null,
        "yColumns": null
       },
       "removedWidgets": [],
       "schema": [
        {
         "metadata": "{}",
         "name": "Id",
         "type": "\"long\""
        },
        {
         "metadata": "{}",
         "name": "Store",
         "type": "\"long\""
        },
        {
         "metadata": "{}",
         "name": "DayOfWeek",
         "type": "\"long\""
        },
        {
         "metadata": "{}",
         "name": "Date",
         "type": "\"date\""
        },
        {
         "metadata": "{}",
         "name": "Open",
         "type": "\"long\""
        },
        {
         "metadata": "{}",
         "name": "Promo",
         "type": "\"long\""
        },
        {
         "metadata": "{}",
         "name": "StateHoliday",
         "type": "\"string\""
        },
        {
         "metadata": "{}",
         "name": "SchoolHoliday",
         "type": "\"long\""
        }
       ],
       "type": "table"
      }
     },
     "output_type": "display_data"
    },
    {
     "output_type": "stream",
     "name": "stdout",
     "output_type": "stream",
     "text": [
      "root\n |-- Id: integer (nullable = true)\n |-- Store: integer (nullable = true)\n |-- DayOfWeek: integer (nullable = true)\n |-- Date: date (nullable = true)\n |-- Open: integer (nullable = true)\n |-- Promo: integer (nullable = true)\n |-- StateHoliday: string (nullable = true)\n |-- SchoolHoliday: integer (nullable = true)\n\n"
     ]
    }
   ],
   "source": [
    "df_test = spark.read.option(\"Header\", True).option(\"InferSchema\", True).csv(\"/FileStore/tables/test.csv\")\n",
    "display(df_test.head(10))\n",
    "\n",
    "df_test.printSchema()"
   ]
  },
  {
   "cell_type": "markdown",
   "metadata": {
    "application/vnd.databricks.v1+cell": {
     "cellMetadata": {
      "byteLimit": 2048000,
      "rowLimit": 10000
     },
     "inputWidgets": {},
     "nuid": "5ec6041e-9c91-4208-99fd-44f3c0696874",
     "showTitle": false,
     "tableResultSettingsMap": {},
     "title": ""
    }
   },
   "source": [
    "#External Data"
   ]
  },
  {
   "cell_type": "markdown",
   "metadata": {
    "application/vnd.databricks.v1+cell": {
     "cellMetadata": {
      "byteLimit": 2048000,
      "rowLimit": 10000
     },
     "inputWidgets": {},
     "nuid": "9d4db837-dd86-4567-91f0-3b869586d557",
     "showTitle": false,
     "tableResultSettingsMap": {},
     "title": ""
    }
   },
   "source": [
    "## Store States"
   ]
  },
  {
   "cell_type": "code",
   "execution_count": 0,
   "metadata": {
    "application/vnd.databricks.v1+cell": {
     "cellMetadata": {
      "byteLimit": 2048000,
      "rowLimit": 10000
     },
     "inputWidgets": {},
     "nuid": "ab33dbca-8d4d-40b3-a447-feb68a1c0129",
     "showTitle": false,
     "tableResultSettingsMap": {},
     "title": ""
    }
   },
   "outputs": [
    {
     "output_type": "display_data",
     "data": {
      "text/html": [
       "<style scoped>\n",
       "  .table-result-container {\n",
       "    max-height: 300px;\n",
       "    overflow: auto;\n",
       "  }\n",
       "  table, th, td {\n",
       "    border: 1px solid black;\n",
       "    border-collapse: collapse;\n",
       "  }\n",
       "  th, td {\n",
       "    padding: 5px;\n",
       "  }\n",
       "  th {\n",
       "    text-align: left;\n",
       "  }\n",
       "</style><div class='table-result-container'><table class='table-result'><thead style='background-color: white'><tr><th>State</th></tr></thead><tbody><tr><td>BE</td></tr><tr><td>BW</td></tr><tr><td>BY</td></tr><tr><td>HB,NI</td></tr><tr><td>HE</td></tr><tr><td>HH</td></tr><tr><td>NW</td></tr><tr><td>RP</td></tr><tr><td>SH</td></tr><tr><td>SN</td></tr></tbody></table></div>"
      ]
     },
     "metadata": {
      "application/vnd.databricks.v1+output": {
       "addedWidgets": {},
       "aggData": [],
       "aggError": "",
       "aggOverflow": false,
       "aggSchema": [],
       "aggSeriesLimitReached": false,
       "aggType": "",
       "arguments": {},
       "columnCustomDisplayInfos": {},
       "data": [
        [
         "BE"
        ],
        [
         "BW"
        ],
        [
         "BY"
        ],
        [
         "HB,NI"
        ],
        [
         "HE"
        ],
        [
         "HH"
        ],
        [
         "NW"
        ],
        [
         "RP"
        ],
        [
         "SH"
        ],
        [
         "SN"
        ]
       ],
       "datasetInfos": [],
       "dbfsResultPath": null,
       "isJsonSchema": true,
       "metadata": {},
       "overflow": false,
       "plotOptions": {
        "customPlotOptions": {},
        "displayType": "table",
        "pivotAggregation": null,
        "pivotColumns": null,
        "xColumns": null,
        "yColumns": null
       },
       "removedWidgets": [],
       "schema": [
        {
         "metadata": "{}",
         "name": "State",
         "type": "\"string\""
        }
       ],
       "type": "table"
      }
     },
     "output_type": "display_data"
    },
    {
     "output_type": "stream",
     "name": "stdout",
     "output_type": "stream",
     "text": [
      "root\n |-- Store: integer (nullable = true)\n |-- State: string (nullable = true)\n\n{}"
     ]
    }
   ],
   "source": [
    "df_store_states = spark.read.option(\"Header\", True).option(\"InferSchema\", True).csv(\"/FileStore/tables/store_states.csv\")\n",
    "display(df_store_states.select(F.col('State')).distinct().orderBy(F.col('State')).limit(10))\n",
    "\n",
    "df_store_states.printSchema()\n",
    "\n",
    "display(see_nulls(df_store_states))"
   ]
  },
  {
   "cell_type": "markdown",
   "metadata": {
    "application/vnd.databricks.v1+cell": {
     "cellMetadata": {
      "byteLimit": 2048000,
      "rowLimit": 10000
     },
     "inputWidgets": {},
     "nuid": "d571d217-d255-4bbb-8503-51d39c3516ff",
     "showTitle": false,
     "tableResultSettingsMap": {},
     "title": ""
    }
   },
   "source": [
    "## Google Trends by State"
   ]
  },
  {
   "cell_type": "code",
   "execution_count": 0,
   "metadata": {
    "application/vnd.databricks.v1+cell": {
     "cellMetadata": {
      "byteLimit": 2048000,
      "rowLimit": 10000
     },
     "inputWidgets": {},
     "nuid": "54337e3b-2017-4cba-addc-46bd6bb46432",
     "showTitle": false,
     "tableResultSettingsMap": {},
     "title": ""
    }
   },
   "outputs": [],
   "source": [
    "file_list = dbutils.fs.ls(\"dbfs:/FileStore/tables/\")\n",
    "\n",
    "valid_files = [\n",
    "    f.path for f in file_list \n",
    "    if f.name.startswith(\"Rossmann_DE_\") and f.name.endswith(\".csv\") and \"-1\" not in f.name\n",
    "]\n",
    "\n",
    "df_google_trends = None\n",
    "\n",
    "for f in valid_files:\n",
    "    df_tmp = read_with_state(f)\n",
    "    df_google_trends = df_tmp if df_google_trends is None else df_google_trends.union(df_tmp)\n"
   ]
  },
  {
   "cell_type": "code",
   "execution_count": 0,
   "metadata": {
    "application/vnd.databricks.v1+cell": {
     "cellMetadata": {
      "byteLimit": 2048000,
      "rowLimit": 10000
     },
     "inputWidgets": {},
     "nuid": "eefdc45e-58e1-465d-84cf-e0ce903223de",
     "showTitle": false,
     "tableResultSettingsMap": {},
     "title": ""
    }
   },
   "outputs": [
    {
     "output_type": "display_data",
     "data": {
      "text/html": [
       "<style scoped>\n",
       "  .table-result-container {\n",
       "    max-height: 300px;\n",
       "    overflow: auto;\n",
       "  }\n",
       "  table, th, td {\n",
       "    border: 1px solid black;\n",
       "    border-collapse: collapse;\n",
       "  }\n",
       "  th, td {\n",
       "    padding: 5px;\n",
       "  }\n",
       "  th {\n",
       "    text-align: left;\n",
       "  }\n",
       "</style><div class='table-result-container'><table class='table-result'><thead style='background-color: white'><tr><th>Date</th><th>DE_trend</th></tr></thead><tbody><tr><td>2004-01-04</td><td>8</td></tr></tbody></table></div>"
      ]
     },
     "metadata": {
      "application/vnd.databricks.v1+output": {
       "addedWidgets": {},
       "aggData": [],
       "aggError": "",
       "aggOverflow": false,
       "aggSchema": [],
       "aggSeriesLimitReached": false,
       "aggType": "",
       "arguments": {},
       "columnCustomDisplayInfos": {},
       "data": [
        [
         "2004-01-04",
         "8"
        ]
       ],
       "datasetInfos": [],
       "dbfsResultPath": null,
       "isJsonSchema": true,
       "metadata": {},
       "overflow": false,
       "plotOptions": {
        "customPlotOptions": {},
        "displayType": "table",
        "pivotAggregation": null,
        "pivotColumns": null,
        "xColumns": null,
        "yColumns": null
       },
       "removedWidgets": [],
       "schema": [
        {
         "metadata": "{}",
         "name": "Date",
         "type": "\"date\""
        },
        {
         "metadata": "{}",
         "name": "DE_trend",
         "type": "\"string\""
        }
       ],
       "type": "table"
      }
     },
     "output_type": "display_data"
    }
   ],
   "source": [
    "de_file_path = next(f.path for f in file_list if f.name.startswith(\"Rossmann_DE\") and \"-1\" not in f.name)\n",
    "\n",
    "\n",
    "df_de = spark.read.option(\"header\", True).csv(de_file_path)\n",
    "\n",
    "\n",
    "df_de = df_de \\\n",
    "    .withColumn(\"week_start_str\", F.split(\"Week\", \" - \").getItem(0)) \\\n",
    "    .withColumn(\"week_end_str\", F.split(\"Week\", \" - \").getItem(1)) \\\n",
    "    .withColumn(\"week_start\", F.to_date(\"week_start_str\", \"yyyy-MM-dd\")) \\\n",
    "    .withColumn(\"week_end\", F.to_date(\"week_end_str\", \"yyyy-MM-dd\"))\n",
    "\n",
    "\n",
    "df_de = df_de.withColumn(\"Date\", F.explode(F.sequence(F.col(\"week_start\"), F.col(\"week_end\"))))\n",
    "\n",
    "\n",
    "df_de = df_de.withColumn(\"DE_trend\", F.col('rossmann'))\n",
    "\n",
    "\n",
    "df_de = df_de.select(\"Date\", \"DE_trend\")\n",
    "\n",
    "display(\n",
    "    df_de.limit(1)\n",
    ")\n"
   ]
  },
  {
   "cell_type": "code",
   "execution_count": 0,
   "metadata": {
    "application/vnd.databricks.v1+cell": {
     "cellMetadata": {
      "byteLimit": 2048000,
      "rowLimit": 10000
     },
     "inputWidgets": {},
     "nuid": "0d4b1e2b-9088-4867-9432-6eeb877f372f",
     "showTitle": false,
     "tableResultSettingsMap": {},
     "title": ""
    }
   },
   "outputs": [],
   "source": [
    "\n",
    "df_google_trends = df_google_trends.dropDuplicates([\"Week\", \"State\"])\n",
    "\n",
    "\n",
    "df_google_trends = df_google_trends \\\n",
    "    .withColumn(\"week_start_str\", F.split(\"Week\", \" - \").getItem(0)) \\\n",
    "    .withColumn(\"week_end_str\", F.split(\"Week\", \" - \").getItem(1)) \\\n",
    "    .withColumn(\"week_start\", F.to_date(\"week_start_str\", \"yyyy-MM-dd\")) \\\n",
    "    .withColumn(\"week_end\", F.to_date(\"week_end_str\", \"yyyy-MM-dd\"))\n",
    "\n",
    "\n",
    "df_google_trends = df_google_trends \\\n",
    "    .withColumn(\"Date\", F.explode(F.sequence(F.col(\"week_start\"), F.col(\"week_end\"))))\n",
    "\n",
    "\n",
    "df_google_trends = df_google_trends.drop(\"week_start_str\", \"week_end_str\", \"week_start\", \"week_end\", \"week\")\n",
    "\n",
    "\n",
    "df_google_trends = df_google_trends.withColumn(\n",
    "    \"State\", F.substring_index(\"State\", \"_\", -1)\n",
    ")\n",
    "\n",
    "df_google_trends = df_google_trends.join(df_de, on=\"Date\", how = \"left\")"
   ]
  },
  {
   "cell_type": "code",
   "execution_count": 0,
   "metadata": {
    "application/vnd.databricks.v1+cell": {
     "cellMetadata": {
      "byteLimit": 2048000,
      "rowLimit": 10000
     },
     "inputWidgets": {},
     "nuid": "457fd6f3-814d-4487-871b-cf8338ed5204",
     "showTitle": false,
     "tableResultSettingsMap": {},
     "title": ""
    }
   },
   "outputs": [
    {
     "output_type": "display_data",
     "data": {
      "text/html": [
       "<style scoped>\n",
       "  .table-result-container {\n",
       "    max-height: 300px;\n",
       "    overflow: auto;\n",
       "  }\n",
       "  table, th, td {\n",
       "    border: 1px solid black;\n",
       "    border-collapse: collapse;\n",
       "  }\n",
       "  th, td {\n",
       "    padding: 5px;\n",
       "  }\n",
       "  th {\n",
       "    text-align: left;\n",
       "  }\n",
       "</style><div class='table-result-container'><table class='table-result'><thead style='background-color: white'><tr><th>Date</th><th>rossmann</th><th>State</th><th>DE_trend</th></tr></thead><tbody><tr><td>2004-01-11</td><td>13</td><td>NW</td><td>10</td></tr><tr><td>2004-01-12</td><td>13</td><td>NW</td><td>10</td></tr><tr><td>2004-01-13</td><td>13</td><td>NW</td><td>10</td></tr><tr><td>2004-01-14</td><td>13</td><td>NW</td><td>10</td></tr><tr><td>2004-01-15</td><td>13</td><td>NW</td><td>10</td></tr><tr><td>2004-01-16</td><td>13</td><td>NW</td><td>10</td></tr><tr><td>2004-01-17</td><td>13</td><td>NW</td><td>10</td></tr><tr><td>2004-04-04</td><td>16</td><td>NW</td><td>10</td></tr><tr><td>2004-04-05</td><td>16</td><td>NW</td><td>10</td></tr><tr><td>2004-04-06</td><td>16</td><td>NW</td><td>10</td></tr><tr><td>2004-04-07</td><td>16</td><td>NW</td><td>10</td></tr><tr><td>2004-04-08</td><td>16</td><td>NW</td><td>10</td></tr><tr><td>2004-04-09</td><td>16</td><td>NW</td><td>10</td></tr><tr><td>2004-04-10</td><td>16</td><td>NW</td><td>10</td></tr><tr><td>2004-04-11</td><td>15</td><td>NW</td><td>10</td></tr><tr><td>2004-04-12</td><td>15</td><td>NW</td><td>10</td></tr><tr><td>2004-04-13</td><td>15</td><td>NW</td><td>10</td></tr><tr><td>2004-04-14</td><td>15</td><td>NW</td><td>10</td></tr><tr><td>2004-04-15</td><td>15</td><td>NW</td><td>10</td></tr><tr><td>2004-04-16</td><td>15</td><td>NW</td><td>10</td></tr></tbody></table></div>"
      ]
     },
     "metadata": {
      "application/vnd.databricks.v1+output": {
       "addedWidgets": {},
       "aggData": [],
       "aggError": "",
       "aggOverflow": false,
       "aggSchema": [],
       "aggSeriesLimitReached": false,
       "aggType": "",
       "arguments": {},
       "columnCustomDisplayInfos": {},
       "data": [
        [
         "2004-01-11",
         "13",
         "NW",
         "10"
        ],
        [
         "2004-01-12",
         "13",
         "NW",
         "10"
        ],
        [
         "2004-01-13",
         "13",
         "NW",
         "10"
        ],
        [
         "2004-01-14",
         "13",
         "NW",
         "10"
        ],
        [
         "2004-01-15",
         "13",
         "NW",
         "10"
        ],
        [
         "2004-01-16",
         "13",
         "NW",
         "10"
        ],
        [
         "2004-01-17",
         "13",
         "NW",
         "10"
        ],
        [
         "2004-04-04",
         "16",
         "NW",
         "10"
        ],
        [
         "2004-04-05",
         "16",
         "NW",
         "10"
        ],
        [
         "2004-04-06",
         "16",
         "NW",
         "10"
        ],
        [
         "2004-04-07",
         "16",
         "NW",
         "10"
        ],
        [
         "2004-04-08",
         "16",
         "NW",
         "10"
        ],
        [
         "2004-04-09",
         "16",
         "NW",
         "10"
        ],
        [
         "2004-04-10",
         "16",
         "NW",
         "10"
        ],
        [
         "2004-04-11",
         "15",
         "NW",
         "10"
        ],
        [
         "2004-04-12",
         "15",
         "NW",
         "10"
        ],
        [
         "2004-04-13",
         "15",
         "NW",
         "10"
        ],
        [
         "2004-04-14",
         "15",
         "NW",
         "10"
        ],
        [
         "2004-04-15",
         "15",
         "NW",
         "10"
        ],
        [
         "2004-04-16",
         "15",
         "NW",
         "10"
        ]
       ],
       "datasetInfos": [],
       "dbfsResultPath": null,
       "isJsonSchema": true,
       "metadata": {},
       "overflow": false,
       "plotOptions": {
        "customPlotOptions": {},
        "displayType": "table",
        "pivotAggregation": null,
        "pivotColumns": null,
        "xColumns": null,
        "yColumns": null
       },
       "removedWidgets": [],
       "schema": [
        {
         "metadata": "{}",
         "name": "Date",
         "type": "\"date\""
        },
        {
         "metadata": "{}",
         "name": "rossmann",
         "type": "\"string\""
        },
        {
         "metadata": "{}",
         "name": "State",
         "type": "\"string\""
        },
        {
         "metadata": "{}",
         "name": "DE_trend",
         "type": "\"string\""
        }
       ],
       "type": "table"
      }
     },
     "output_type": "display_data"
    }
   ],
   "source": [
    "display(\n",
    "    df_google_trends.filter( \n",
    "                            (F.col(\"rossmann\") != 0) \n",
    "                            ).orderBy(F.col(\"Date\")).limit(20)\n",
    ")"
   ]
  },
  {
   "cell_type": "markdown",
   "metadata": {
    "application/vnd.databricks.v1+cell": {
     "cellMetadata": {
      "byteLimit": 2048000,
      "rowLimit": 10000
     },
     "inputWidgets": {},
     "nuid": "06946634-c6da-4d0b-a774-65de36b9fea9",
     "showTitle": false,
     "tableResultSettingsMap": {},
     "title": ""
    }
   },
   "source": [
    "# Data Exploration"
   ]
  },
  {
   "cell_type": "markdown",
   "metadata": {
    "application/vnd.databricks.v1+cell": {
     "cellMetadata": {
      "byteLimit": 2048000,
      "rowLimit": 10000
     },
     "inputWidgets": {},
     "nuid": "55bc3965-8c5b-4d82-be93-643ec3499370",
     "showTitle": false,
     "tableResultSettingsMap": {},
     "title": ""
    }
   },
   "source": [
    "## Store"
   ]
  },
  {
   "cell_type": "code",
   "execution_count": 0,
   "metadata": {
    "application/vnd.databricks.v1+cell": {
     "cellMetadata": {
      "byteLimit": 2048000,
      "rowLimit": 10000
     },
     "inputWidgets": {},
     "nuid": "d614bbdc-63ae-4034-a602-e7b2d273111b",
     "showTitle": false,
     "tableResultSettingsMap": {},
     "title": ""
    }
   },
   "outputs": [
    {
     "output_type": "display_data",
     "data": {
      "text/html": [
       "<style scoped>\n",
       "  .table-result-container {\n",
       "    max-height: 300px;\n",
       "    overflow: auto;\n",
       "  }\n",
       "  table, th, td {\n",
       "    border: 1px solid black;\n",
       "    border-collapse: collapse;\n",
       "  }\n",
       "  th, td {\n",
       "    padding: 5px;\n",
       "  }\n",
       "  th {\n",
       "    text-align: left;\n",
       "  }\n",
       "</style><div class='table-result-container'><table class='table-result'><thead style='background-color: white'><tr><th>Store</th><th>StoreType</th><th>Assortment</th><th>CompetitionDistance</th><th>CompetitionOpenSinceMonth</th><th>CompetitionOpenSinceYear</th><th>Promo2</th><th>Promo2SinceWeek</th><th>Promo2SinceYear</th><th>PromoInterval</th></tr></thead><tbody><tr><td>1</td><td>c</td><td>a</td><td>1270</td><td>9</td><td>2008</td><td>0</td><td>null</td><td>null</td><td>null</td></tr></tbody></table></div>"
      ]
     },
     "metadata": {
      "application/vnd.databricks.v1+output": {
       "addedWidgets": {},
       "aggData": [],
       "aggError": "",
       "aggOverflow": false,
       "aggSchema": [],
       "aggSeriesLimitReached": false,
       "aggType": "",
       "arguments": {},
       "columnCustomDisplayInfos": {},
       "data": [
        [
         1,
         "c",
         "a",
         1270,
         9,
         2008,
         0,
         null,
         null,
         null
        ]
       ],
       "datasetInfos": [],
       "dbfsResultPath": null,
       "isJsonSchema": true,
       "metadata": {},
       "overflow": false,
       "plotOptions": {
        "customPlotOptions": {},
        "displayType": "table",
        "pivotAggregation": null,
        "pivotColumns": null,
        "xColumns": null,
        "yColumns": null
       },
       "removedWidgets": [],
       "schema": [
        {
         "metadata": "{}",
         "name": "Store",
         "type": "\"integer\""
        },
        {
         "metadata": "{}",
         "name": "StoreType",
         "type": "\"string\""
        },
        {
         "metadata": "{}",
         "name": "Assortment",
         "type": "\"string\""
        },
        {
         "metadata": "{}",
         "name": "CompetitionDistance",
         "type": "\"integer\""
        },
        {
         "metadata": "{}",
         "name": "CompetitionOpenSinceMonth",
         "type": "\"integer\""
        },
        {
         "metadata": "{}",
         "name": "CompetitionOpenSinceYear",
         "type": "\"integer\""
        },
        {
         "metadata": "{}",
         "name": "Promo2",
         "type": "\"integer\""
        },
        {
         "metadata": "{}",
         "name": "Promo2SinceWeek",
         "type": "\"integer\""
        },
        {
         "metadata": "{}",
         "name": "Promo2SinceYear",
         "type": "\"integer\""
        },
        {
         "metadata": "{}",
         "name": "PromoInterval",
         "type": "\"string\""
        }
       ],
       "type": "table"
      }
     },
     "output_type": "display_data"
    }
   ],
   "source": [
    "display(df_store.limit(1))"
   ]
  },
  {
   "cell_type": "code",
   "execution_count": 0,
   "metadata": {
    "application/vnd.databricks.v1+cell": {
     "cellMetadata": {
      "byteLimit": 2048000,
      "rowLimit": 10000
     },
     "inputWidgets": {},
     "nuid": "76895e16-16b0-49fd-8719-9a89db7b49c2",
     "showTitle": false,
     "tableResultSettingsMap": {},
     "title": ""
    }
   },
   "outputs": [
    {
     "output_type": "stream",
     "name": "stdout",
     "output_type": "stream",
     "text": [
      "{'CompetitionDistance': 3,\n 'CompetitionOpenSinceMonth': 354,\n 'CompetitionOpenSinceYear': 354,\n 'Promo2SinceWeek': 544,\n 'Promo2SinceYear': 544,\n 'PromoInterval': 544}root\n |-- Store: integer (nullable = true)\n |-- StoreType: string (nullable = true)\n |-- Assortment: string (nullable = true)\n |-- CompetitionDistance: integer (nullable = true)\n |-- CompetitionOpenSinceMonth: integer (nullable = true)\n |-- CompetitionOpenSinceYear: integer (nullable = true)\n |-- Promo2: integer (nullable = true)\n |-- Promo2SinceWeek: integer (nullable = true)\n |-- Promo2SinceYear: integer (nullable = true)\n |-- PromoInterval: string (nullable = true)\n\n"
     ]
    }
   ],
   "source": [
    "display(see_nulls(df_store))\n",
    "df_store.printSchema()"
   ]
  },
  {
   "cell_type": "code",
   "execution_count": 0,
   "metadata": {
    "application/vnd.databricks.v1+cell": {
     "cellMetadata": {
      "byteLimit": 2048000,
      "rowLimit": 10000
     },
     "inputWidgets": {},
     "nuid": "38256b4b-aa54-4547-be13-30b081b0b6cf",
     "showTitle": false,
     "tableResultSettingsMap": {},
     "title": ""
    }
   },
   "outputs": [
    {
     "output_type": "display_data",
     "data": {
      "text/html": [
       "<style scoped>\n",
       "  .table-result-container {\n",
       "    max-height: 300px;\n",
       "    overflow: auto;\n",
       "  }\n",
       "  table, th, td {\n",
       "    border: 1px solid black;\n",
       "    border-collapse: collapse;\n",
       "  }\n",
       "  th, td {\n",
       "    padding: 5px;\n",
       "  }\n",
       "  th {\n",
       "    text-align: left;\n",
       "  }\n",
       "</style><div class='table-result-container'><table class='table-result'><thead style='background-color: white'><tr><th>summary</th><th>Store</th><th>StoreType</th><th>Assortment</th><th>CompetitionDistance</th><th>CompetitionOpenSinceMonth</th><th>CompetitionOpenSinceYear</th><th>Promo2</th><th>Promo2SinceWeek</th><th>Promo2SinceYear</th><th>PromoInterval</th></tr></thead><tbody><tr><td>count</td><td>1115</td><td>1115</td><td>1115</td><td>1112</td><td>761</td><td>761</td><td>1115</td><td>571</td><td>571</td><td>571</td></tr><tr><td>mean</td><td>558.0</td><td>null</td><td>null</td><td>5404.901079136691</td><td>7.2247043363994745</td><td>2008.6688567674114</td><td>0.5121076233183857</td><td>23.595446584938703</td><td>2011.7635726795097</td><td>null</td></tr><tr><td>stddev</td><td>322.0170802923348</td><td>null</td><td>null</td><td>7663.174720367942</td><td>3.21234779661471</td><td>6.19598255932908</td><td>0.5000776843468315</td><td>14.141983542922194</td><td>1.6749350926066222</td><td>null</td></tr><tr><td>min</td><td>1</td><td>a</td><td>a</td><td>20</td><td>1</td><td>1900</td><td>0</td><td>1</td><td>2009</td><td>Feb,May,Aug,Nov</td></tr><tr><td>max</td><td>1115</td><td>d</td><td>c</td><td>75860</td><td>12</td><td>2015</td><td>1</td><td>50</td><td>2015</td><td>Mar,Jun,Sept,Dec</td></tr></tbody></table></div>"
      ]
     },
     "metadata": {
      "application/vnd.databricks.v1+output": {
       "addedWidgets": {},
       "aggData": [],
       "aggError": "",
       "aggOverflow": false,
       "aggSchema": [],
       "aggSeriesLimitReached": false,
       "aggType": "",
       "arguments": {},
       "columnCustomDisplayInfos": {},
       "data": [
        [
         "count",
         "1115",
         "1115",
         "1115",
         "1112",
         "761",
         "761",
         "1115",
         "571",
         "571",
         "571"
        ],
        [
         "mean",
         "558.0",
         null,
         null,
         "5404.901079136691",
         "7.2247043363994745",
         "2008.6688567674114",
         "0.5121076233183857",
         "23.595446584938703",
         "2011.7635726795097",
         null
        ],
        [
         "stddev",
         "322.0170802923348",
         null,
         null,
         "7663.174720367942",
         "3.21234779661471",
         "6.19598255932908",
         "0.5000776843468315",
         "14.141983542922194",
         "1.6749350926066222",
         null
        ],
        [
         "min",
         "1",
         "a",
         "a",
         "20",
         "1",
         "1900",
         "0",
         "1",
         "2009",
         "Feb,May,Aug,Nov"
        ],
        [
         "max",
         "1115",
         "d",
         "c",
         "75860",
         "12",
         "2015",
         "1",
         "50",
         "2015",
         "Mar,Jun,Sept,Dec"
        ]
       ],
       "datasetInfos": [],
       "dbfsResultPath": null,
       "isJsonSchema": true,
       "metadata": {},
       "overflow": false,
       "plotOptions": {
        "customPlotOptions": {},
        "displayType": "table",
        "pivotAggregation": null,
        "pivotColumns": null,
        "xColumns": null,
        "yColumns": null
       },
       "removedWidgets": [],
       "schema": [
        {
         "metadata": "{}",
         "name": "summary",
         "type": "\"string\""
        },
        {
         "metadata": "{}",
         "name": "Store",
         "type": "\"string\""
        },
        {
         "metadata": "{}",
         "name": "StoreType",
         "type": "\"string\""
        },
        {
         "metadata": "{}",
         "name": "Assortment",
         "type": "\"string\""
        },
        {
         "metadata": "{}",
         "name": "CompetitionDistance",
         "type": "\"string\""
        },
        {
         "metadata": "{}",
         "name": "CompetitionOpenSinceMonth",
         "type": "\"string\""
        },
        {
         "metadata": "{}",
         "name": "CompetitionOpenSinceYear",
         "type": "\"string\""
        },
        {
         "metadata": "{}",
         "name": "Promo2",
         "type": "\"string\""
        },
        {
         "metadata": "{}",
         "name": "Promo2SinceWeek",
         "type": "\"string\""
        },
        {
         "metadata": "{}",
         "name": "Promo2SinceYear",
         "type": "\"string\""
        },
        {
         "metadata": "{}",
         "name": "PromoInterval",
         "type": "\"string\""
        }
       ],
       "type": "table"
      }
     },
     "output_type": "display_data"
    }
   ],
   "source": [
    "display(df_store.describe())"
   ]
  },
  {
   "cell_type": "code",
   "execution_count": 0,
   "metadata": {
    "application/vnd.databricks.v1+cell": {
     "cellMetadata": {
      "byteLimit": 2048000,
      "rowLimit": 10000
     },
     "inputWidgets": {},
     "nuid": "8908eb04-eb1a-4fc7-bc57-63caa2884054",
     "showTitle": false,
     "tableResultSettingsMap": {},
     "title": ""
    }
   },
   "outputs": [
    {
     "output_type": "display_data",
     "data": {
      "text/html": [
       "<style scoped>\n",
       "  .table-result-container {\n",
       "    max-height: 300px;\n",
       "    overflow: auto;\n",
       "  }\n",
       "  table, th, td {\n",
       "    border: 1px solid black;\n",
       "    border-collapse: collapse;\n",
       "  }\n",
       "  th, td {\n",
       "    padding: 5px;\n",
       "  }\n",
       "  th {\n",
       "    text-align: left;\n",
       "  }\n",
       "</style><div class='table-result-container'><table class='table-result'><thead style='background-color: white'><tr><th>PromoInterval</th><th>count</th></tr></thead><tbody><tr><td>Mar,Jun,Sept,Dec</td><td>106</td></tr><tr><td>Feb,May,Aug,Nov</td><td>130</td></tr><tr><td>Jan,Apr,Jul,Oct</td><td>335</td></tr><tr><td>null</td><td>544</td></tr></tbody></table></div>"
      ]
     },
     "metadata": {
      "application/vnd.databricks.v1+output": {
       "addedWidgets": {},
       "aggData": [],
       "aggError": "",
       "aggOverflow": false,
       "aggSchema": [],
       "aggSeriesLimitReached": false,
       "aggType": "",
       "arguments": {},
       "columnCustomDisplayInfos": {},
       "data": [
        [
         "Mar,Jun,Sept,Dec",
         106
        ],
        [
         "Feb,May,Aug,Nov",
         130
        ],
        [
         "Jan,Apr,Jul,Oct",
         335
        ],
        [
         null,
         544
        ]
       ],
       "datasetInfos": [],
       "dbfsResultPath": null,
       "isJsonSchema": true,
       "metadata": {},
       "overflow": false,
       "plotOptions": {
        "customPlotOptions": {},
        "displayType": "table",
        "pivotAggregation": null,
        "pivotColumns": null,
        "xColumns": null,
        "yColumns": null
       },
       "removedWidgets": [],
       "schema": [
        {
         "metadata": "{}",
         "name": "PromoInterval",
         "type": "\"string\""
        },
        {
         "metadata": "{}",
         "name": "count",
         "type": "\"long\""
        }
       ],
       "type": "table"
      }
     },
     "output_type": "display_data"
    }
   ],
   "source": [
    "display(\n",
    "    df_store.groupBy('PromoInterval').agg(F.count(\"*\").alias(\"count\")).orderBy(\"count\")\n",
    "    )"
   ]
  },
  {
   "cell_type": "code",
   "execution_count": 0,
   "metadata": {
    "application/vnd.databricks.v1+cell": {
     "cellMetadata": {
      "byteLimit": 2048000,
      "rowLimit": 10000
     },
     "inputWidgets": {},
     "nuid": "2efea51b-49cc-4a54-995d-27d9241a4dde",
     "showTitle": false,
     "tableResultSettingsMap": {},
     "title": ""
    }
   },
   "outputs": [
    {
     "output_type": "display_data",
     "data": {
      "text/html": [
       "<style scoped>\n",
       "  .table-result-container {\n",
       "    max-height: 300px;\n",
       "    overflow: auto;\n",
       "  }\n",
       "  table, th, td {\n",
       "    border: 1px solid black;\n",
       "    border-collapse: collapse;\n",
       "  }\n",
       "  th, td {\n",
       "    padding: 5px;\n",
       "  }\n",
       "  th {\n",
       "    text-align: left;\n",
       "  }\n",
       "</style><div class='table-result-container'><table class='table-result'><thead style='background-color: white'><tr><th>StoreType</th><th>count</th></tr></thead><tbody><tr><td>b</td><td>17</td></tr><tr><td>c</td><td>148</td></tr><tr><td>d</td><td>348</td></tr><tr><td>a</td><td>602</td></tr></tbody></table></div>"
      ]
     },
     "metadata": {
      "application/vnd.databricks.v1+output": {
       "addedWidgets": {},
       "aggData": [],
       "aggError": "",
       "aggOverflow": false,
       "aggSchema": [],
       "aggSeriesLimitReached": false,
       "aggType": "",
       "arguments": {},
       "columnCustomDisplayInfos": {},
       "data": [
        [
         "b",
         17
        ],
        [
         "c",
         148
        ],
        [
         "d",
         348
        ],
        [
         "a",
         602
        ]
       ],
       "datasetInfos": [],
       "dbfsResultPath": null,
       "isJsonSchema": true,
       "metadata": {},
       "overflow": false,
       "plotOptions": {
        "customPlotOptions": {},
        "displayType": "table",
        "pivotAggregation": null,
        "pivotColumns": null,
        "xColumns": null,
        "yColumns": null
       },
       "removedWidgets": [],
       "schema": [
        {
         "metadata": "{}",
         "name": "StoreType",
         "type": "\"string\""
        },
        {
         "metadata": "{}",
         "name": "count",
         "type": "\"long\""
        }
       ],
       "type": "table"
      }
     },
     "output_type": "display_data"
    }
   ],
   "source": [
    "display(\n",
    "    df_store.groupBy('StoreType').agg(F.count(\"*\").alias(\"count\")).orderBy(\"count\")\n",
    "    )"
   ]
  },
  {
   "cell_type": "markdown",
   "metadata": {
    "application/vnd.databricks.v1+cell": {
     "cellMetadata": {
      "byteLimit": 2048000,
      "rowLimit": 10000
     },
     "inputWidgets": {},
     "nuid": "061f259f-9339-409b-9a72-76e554829fa9",
     "showTitle": false,
     "tableResultSettingsMap": {},
     "title": ""
    }
   },
   "source": [
    "## Train"
   ]
  },
  {
   "cell_type": "code",
   "execution_count": 0,
   "metadata": {
    "application/vnd.databricks.v1+cell": {
     "cellMetadata": {
      "byteLimit": 2048000,
      "rowLimit": 10000
     },
     "inputWidgets": {},
     "nuid": "f916b99e-6d57-4ab1-9b6b-6643a9f43194",
     "showTitle": false,
     "tableResultSettingsMap": {},
     "title": ""
    }
   },
   "outputs": [
    {
     "output_type": "stream",
     "name": "stdout",
     "output_type": "stream",
     "text": [
      "{}"
     ]
    }
   ],
   "source": [
    "display(see_nulls(df_train))"
   ]
  },
  {
   "cell_type": "code",
   "execution_count": 0,
   "metadata": {
    "application/vnd.databricks.v1+cell": {
     "cellMetadata": {
      "byteLimit": 2048000,
      "rowLimit": 10000
     },
     "inputWidgets": {},
     "nuid": "9e29eb1f-5cb4-4ce1-a763-12b4b4617d5b",
     "showTitle": false,
     "tableResultSettingsMap": {},
     "title": ""
    }
   },
   "outputs": [
    {
     "output_type": "display_data",
     "data": {
      "text/html": [
       "<style scoped>\n",
       "  .table-result-container {\n",
       "    max-height: 300px;\n",
       "    overflow: auto;\n",
       "  }\n",
       "  table, th, td {\n",
       "    border: 1px solid black;\n",
       "    border-collapse: collapse;\n",
       "  }\n",
       "  th, td {\n",
       "    padding: 5px;\n",
       "  }\n",
       "  th {\n",
       "    text-align: left;\n",
       "  }\n",
       "</style><div class='table-result-container'><table class='table-result'><thead style='background-color: white'><tr><th>summary</th><th>Store</th><th>DayOfWeek</th><th>Sales</th><th>Customers</th><th>Open</th><th>Promo</th><th>StateHoliday</th><th>SchoolHoliday</th></tr></thead><tbody><tr><td>count</td><td>1017209</td><td>1017209</td><td>1017209</td><td>1017209</td><td>1017209</td><td>1017209</td><td>1017209</td><td>1017209</td></tr><tr><td>mean</td><td>558.4297268309659</td><td>3.998340557348588</td><td>5773.818972305593</td><td>633.1459464082602</td><td>0.8301066939045958</td><td>0.3815145166824124</td><td>0.0</td><td>0.17864666946517382</td></tr><tr><td>stddev</td><td>321.9086511434535</td><td>1.99739096494053</td><td>3849.926175234754</td><td>464.41173388663157</td><td>0.37553922469319545</td><td>0.48575860487742045</td><td>0.0</td><td>0.38305636818092614</td></tr><tr><td>min</td><td>1</td><td>1</td><td>0</td><td>0</td><td>0</td><td>0</td><td>0</td><td>0</td></tr><tr><td>max</td><td>1115</td><td>7</td><td>41551</td><td>7388</td><td>1</td><td>1</td><td>c</td><td>1</td></tr></tbody></table></div>"
      ]
     },
     "metadata": {
      "application/vnd.databricks.v1+output": {
       "addedWidgets": {},
       "aggData": [],
       "aggError": "",
       "aggOverflow": false,
       "aggSchema": [],
       "aggSeriesLimitReached": false,
       "aggType": "",
       "arguments": {},
       "columnCustomDisplayInfos": {},
       "data": [
        [
         "count",
         "1017209",
         "1017209",
         "1017209",
         "1017209",
         "1017209",
         "1017209",
         "1017209",
         "1017209"
        ],
        [
         "mean",
         "558.4297268309659",
         "3.998340557348588",
         "5773.818972305593",
         "633.1459464082602",
         "0.8301066939045958",
         "0.3815145166824124",
         "0.0",
         "0.17864666946517382"
        ],
        [
         "stddev",
         "321.9086511434535",
         "1.99739096494053",
         "3849.926175234754",
         "464.41173388663157",
         "0.37553922469319545",
         "0.48575860487742045",
         "0.0",
         "0.38305636818092614"
        ],
        [
         "min",
         "1",
         "1",
         "0",
         "0",
         "0",
         "0",
         "0",
         "0"
        ],
        [
         "max",
         "1115",
         "7",
         "41551",
         "7388",
         "1",
         "1",
         "c",
         "1"
        ]
       ],
       "datasetInfos": [],
       "dbfsResultPath": null,
       "isJsonSchema": true,
       "metadata": {},
       "overflow": false,
       "plotOptions": {
        "customPlotOptions": {},
        "displayType": "table",
        "pivotAggregation": null,
        "pivotColumns": null,
        "xColumns": null,
        "yColumns": null
       },
       "removedWidgets": [],
       "schema": [
        {
         "metadata": "{}",
         "name": "summary",
         "type": "\"string\""
        },
        {
         "metadata": "{}",
         "name": "Store",
         "type": "\"string\""
        },
        {
         "metadata": "{}",
         "name": "DayOfWeek",
         "type": "\"string\""
        },
        {
         "metadata": "{}",
         "name": "Sales",
         "type": "\"string\""
        },
        {
         "metadata": "{}",
         "name": "Customers",
         "type": "\"string\""
        },
        {
         "metadata": "{}",
         "name": "Open",
         "type": "\"string\""
        },
        {
         "metadata": "{}",
         "name": "Promo",
         "type": "\"string\""
        },
        {
         "metadata": "{}",
         "name": "StateHoliday",
         "type": "\"string\""
        },
        {
         "metadata": "{}",
         "name": "SchoolHoliday",
         "type": "\"string\""
        }
       ],
       "type": "table"
      }
     },
     "output_type": "display_data"
    }
   ],
   "source": [
    "display(df_train.describe())"
   ]
  },
  {
   "cell_type": "code",
   "execution_count": 0,
   "metadata": {
    "application/vnd.databricks.v1+cell": {
     "cellMetadata": {
      "byteLimit": 2048000,
      "rowLimit": 10000
     },
     "inputWidgets": {},
     "nuid": "6fa714cb-fc64-40cd-9c4e-e6d8f4177bae",
     "showTitle": false,
     "tableResultSettingsMap": {},
     "title": ""
    }
   },
   "outputs": [
    {
     "output_type": "stream",
     "name": "stdout",
     "output_type": "stream",
     "text": [
      "172817"
     ]
    }
   ],
   "source": [
    "display(\n",
    "    df_train.filter(\n",
    "    (F.col(\"Open\") == 0) &\n",
    "    (F.col(\"Sales\") == 0)\n",
    ").count()\n",
    ")"
   ]
  },
  {
   "cell_type": "code",
   "execution_count": 0,
   "metadata": {
    "application/vnd.databricks.v1+cell": {
     "cellMetadata": {
      "byteLimit": 2048000,
      "rowLimit": 10000
     },
     "inputWidgets": {},
     "nuid": "108cde2a-6a74-463e-8d54-48ee64469117",
     "showTitle": false,
     "tableResultSettingsMap": {},
     "title": ""
    }
   },
   "outputs": [
    {
     "output_type": "stream",
     "name": "stdout",
     "output_type": "stream",
     "text": [
      "54"
     ]
    }
   ],
   "source": [
    "display(\n",
    "    df_train.filter(\n",
    "    (F.col(\"Open\") == 1) &\n",
    "    (F.col(\"Sales\") == 0)\n",
    ").count()\n",
    ")"
   ]
  },
  {
   "cell_type": "markdown",
   "metadata": {
    "application/vnd.databricks.v1+cell": {
     "cellMetadata": {
      "byteLimit": 2048000,
      "rowLimit": 10000
     },
     "inputWidgets": {},
     "nuid": "e8d6bbf1-f4af-4ef1-baec-7f5619a1db8b",
     "showTitle": false,
     "tableResultSettingsMap": {},
     "title": ""
    }
   },
   "source": [
    "## Test"
   ]
  },
  {
   "cell_type": "code",
   "execution_count": 0,
   "metadata": {
    "application/vnd.databricks.v1+cell": {
     "cellMetadata": {
      "byteLimit": 2048000,
      "rowLimit": 10000
     },
     "inputWidgets": {},
     "nuid": "72e71a9d-b1a3-4f56-b223-fc539d5a3900",
     "showTitle": false,
     "tableResultSettingsMap": {},
     "title": ""
    }
   },
   "outputs": [
    {
     "output_type": "display_data",
     "data": {
      "text/html": [
       "<style scoped>\n",
       "  .table-result-container {\n",
       "    max-height: 300px;\n",
       "    overflow: auto;\n",
       "  }\n",
       "  table, th, td {\n",
       "    border: 1px solid black;\n",
       "    border-collapse: collapse;\n",
       "  }\n",
       "  th, td {\n",
       "    padding: 5px;\n",
       "  }\n",
       "  th {\n",
       "    text-align: left;\n",
       "  }\n",
       "</style><div class='table-result-container'><table class='table-result'><thead style='background-color: white'><tr><th>Id</th><th>Store</th><th>DayOfWeek</th><th>Date</th><th>Open</th><th>Promo</th><th>StateHoliday</th><th>SchoolHoliday</th></tr></thead><tbody><tr><td>1</td><td>1</td><td>4</td><td>2015-09-17</td><td>1</td><td>1</td><td>0</td><td>0</td></tr></tbody></table></div>"
      ]
     },
     "metadata": {
      "application/vnd.databricks.v1+output": {
       "addedWidgets": {},
       "aggData": [],
       "aggError": "",
       "aggOverflow": false,
       "aggSchema": [],
       "aggSeriesLimitReached": false,
       "aggType": "",
       "arguments": {},
       "columnCustomDisplayInfos": {},
       "data": [
        [
         1,
         1,
         4,
         "2015-09-17",
         1,
         1,
         "0",
         0
        ]
       ],
       "datasetInfos": [],
       "dbfsResultPath": null,
       "isJsonSchema": true,
       "metadata": {},
       "overflow": false,
       "plotOptions": {
        "customPlotOptions": {},
        "displayType": "table",
        "pivotAggregation": null,
        "pivotColumns": null,
        "xColumns": null,
        "yColumns": null
       },
       "removedWidgets": [],
       "schema": [
        {
         "metadata": "{}",
         "name": "Id",
         "type": "\"integer\""
        },
        {
         "metadata": "{}",
         "name": "Store",
         "type": "\"integer\""
        },
        {
         "metadata": "{}",
         "name": "DayOfWeek",
         "type": "\"integer\""
        },
        {
         "metadata": "{\"__detected_date_formats\":\"yyyy-M-d\"}",
         "name": "Date",
         "type": "\"date\""
        },
        {
         "metadata": "{}",
         "name": "Open",
         "type": "\"integer\""
        },
        {
         "metadata": "{}",
         "name": "Promo",
         "type": "\"integer\""
        },
        {
         "metadata": "{}",
         "name": "StateHoliday",
         "type": "\"string\""
        },
        {
         "metadata": "{}",
         "name": "SchoolHoliday",
         "type": "\"integer\""
        }
       ],
       "type": "table"
      }
     },
     "output_type": "display_data"
    }
   ],
   "source": [
    "display(\n",
    "    df_test.limit(1)\n",
    ")"
   ]
  },
  {
   "cell_type": "code",
   "execution_count": 0,
   "metadata": {
    "application/vnd.databricks.v1+cell": {
     "cellMetadata": {
      "byteLimit": 2048000,
      "rowLimit": 10000
     },
     "inputWidgets": {},
     "nuid": "df9accf6-43a2-4dfe-b2ca-5cbb612d1b79",
     "showTitle": false,
     "tableResultSettingsMap": {},
     "title": ""
    }
   },
   "outputs": [
    {
     "output_type": "stream",
     "name": "stdout",
     "output_type": "stream",
     "text": [
      "{'Open': 11}"
     ]
    }
   ],
   "source": [
    "display(see_nulls(df_test))"
   ]
  },
  {
   "cell_type": "code",
   "execution_count": 0,
   "metadata": {
    "application/vnd.databricks.v1+cell": {
     "cellMetadata": {
      "byteLimit": 2048000,
      "rowLimit": 10000
     },
     "inputWidgets": {},
     "nuid": "b5552d98-7659-4aa2-962f-60b7fe043616",
     "showTitle": false,
     "tableResultSettingsMap": {},
     "title": ""
    }
   },
   "outputs": [
    {
     "output_type": "display_data",
     "data": {
      "text/html": [
       "<style scoped>\n",
       "  .table-result-container {\n",
       "    max-height: 300px;\n",
       "    overflow: auto;\n",
       "  }\n",
       "  table, th, td {\n",
       "    border: 1px solid black;\n",
       "    border-collapse: collapse;\n",
       "  }\n",
       "  th, td {\n",
       "    padding: 5px;\n",
       "  }\n",
       "  th {\n",
       "    text-align: left;\n",
       "  }\n",
       "</style><div class='table-result-container'><table class='table-result'><thead style='background-color: white'><tr><th>summary</th><th>Id</th><th>Store</th><th>DayOfWeek</th><th>Open</th><th>Promo</th><th>StateHoliday</th><th>SchoolHoliday</th></tr></thead><tbody><tr><td>count</td><td>41088</td><td>41088</td><td>41088</td><td>41077</td><td>41088</td><td>41088</td><td>41088</td></tr><tr><td>mean</td><td>20544.5</td><td>555.8995327102804</td><td>3.9791666666666665</td><td>0.8543223701828274</td><td>0.3958333333333333</td><td>0.0</td><td>0.4434871495327103</td></tr><tr><td>stddev</td><td>11861.228266920758</td><td>320.2744959417983</td><td>2.0154812917056226</td><td>0.35278702906356946</td><td>0.4890348925327371</td><td>0.0</td><td>0.4968020779460085</td></tr><tr><td>min</td><td>1</td><td>1</td><td>1</td><td>0</td><td>0</td><td>0</td><td>0</td></tr><tr><td>max</td><td>41088</td><td>1115</td><td>7</td><td>1</td><td>1</td><td>a</td><td>1</td></tr></tbody></table></div>"
      ]
     },
     "metadata": {
      "application/vnd.databricks.v1+output": {
       "addedWidgets": {},
       "aggData": [],
       "aggError": "",
       "aggOverflow": false,
       "aggSchema": [],
       "aggSeriesLimitReached": false,
       "aggType": "",
       "arguments": {},
       "columnCustomDisplayInfos": {},
       "data": [
        [
         "count",
         "41088",
         "41088",
         "41088",
         "41077",
         "41088",
         "41088",
         "41088"
        ],
        [
         "mean",
         "20544.5",
         "555.8995327102804",
         "3.9791666666666665",
         "0.8543223701828274",
         "0.3958333333333333",
         "0.0",
         "0.4434871495327103"
        ],
        [
         "stddev",
         "11861.228266920758",
         "320.2744959417983",
         "2.0154812917056226",
         "0.35278702906356946",
         "0.4890348925327371",
         "0.0",
         "0.4968020779460085"
        ],
        [
         "min",
         "1",
         "1",
         "1",
         "0",
         "0",
         "0",
         "0"
        ],
        [
         "max",
         "41088",
         "1115",
         "7",
         "1",
         "1",
         "a",
         "1"
        ]
       ],
       "datasetInfos": [],
       "dbfsResultPath": null,
       "isJsonSchema": true,
       "metadata": {},
       "overflow": false,
       "plotOptions": {
        "customPlotOptions": {},
        "displayType": "table",
        "pivotAggregation": null,
        "pivotColumns": null,
        "xColumns": null,
        "yColumns": null
       },
       "removedWidgets": [],
       "schema": [
        {
         "metadata": "{}",
         "name": "summary",
         "type": "\"string\""
        },
        {
         "metadata": "{}",
         "name": "Id",
         "type": "\"string\""
        },
        {
         "metadata": "{}",
         "name": "Store",
         "type": "\"string\""
        },
        {
         "metadata": "{}",
         "name": "DayOfWeek",
         "type": "\"string\""
        },
        {
         "metadata": "{}",
         "name": "Open",
         "type": "\"string\""
        },
        {
         "metadata": "{}",
         "name": "Promo",
         "type": "\"string\""
        },
        {
         "metadata": "{}",
         "name": "StateHoliday",
         "type": "\"string\""
        },
        {
         "metadata": "{}",
         "name": "SchoolHoliday",
         "type": "\"string\""
        }
       ],
       "type": "table"
      }
     },
     "output_type": "display_data"
    }
   ],
   "source": [
    "display(df_test.describe())"
   ]
  },
  {
   "cell_type": "code",
   "execution_count": 0,
   "metadata": {
    "application/vnd.databricks.v1+cell": {
     "cellMetadata": {
      "byteLimit": 2048000,
      "rowLimit": 10000
     },
     "inputWidgets": {},
     "nuid": "a2054a85-4a2a-4637-855c-879395229192",
     "showTitle": false,
     "tableResultSettingsMap": {},
     "title": ""
    }
   },
   "outputs": [
    {
     "output_type": "display_data",
     "data": {
      "text/html": [
       "<style scoped>\n",
       "  .table-result-container {\n",
       "    max-height: 300px;\n",
       "    overflow: auto;\n",
       "  }\n",
       "  table, th, td {\n",
       "    border: 1px solid black;\n",
       "    border-collapse: collapse;\n",
       "  }\n",
       "  th, td {\n",
       "    padding: 5px;\n",
       "  }\n",
       "  th {\n",
       "    text-align: left;\n",
       "  }\n",
       "</style><div class='table-result-container'><table class='table-result'><thead style='background-color: white'><tr><th>Id</th><th>Store</th><th>DayOfWeek</th><th>Date</th><th>Open</th><th>Promo</th><th>StateHoliday</th><th>SchoolHoliday</th></tr></thead><tbody><tr><td>480</td><td>622</td><td>4</td><td>2015-09-17</td><td>null</td><td>1</td><td>0</td><td>0</td></tr><tr><td>1336</td><td>622</td><td>3</td><td>2015-09-16</td><td>null</td><td>1</td><td>0</td><td>0</td></tr><tr><td>2192</td><td>622</td><td>2</td><td>2015-09-15</td><td>null</td><td>1</td><td>0</td><td>0</td></tr><tr><td>3048</td><td>622</td><td>1</td><td>2015-09-14</td><td>null</td><td>1</td><td>0</td><td>0</td></tr><tr><td>4760</td><td>622</td><td>6</td><td>2015-09-12</td><td>null</td><td>0</td><td>0</td><td>0</td></tr><tr><td>5616</td><td>622</td><td>5</td><td>2015-09-11</td><td>null</td><td>0</td><td>0</td><td>0</td></tr><tr><td>6472</td><td>622</td><td>4</td><td>2015-09-10</td><td>null</td><td>0</td><td>0</td><td>0</td></tr><tr><td>7328</td><td>622</td><td>3</td><td>2015-09-09</td><td>null</td><td>0</td><td>0</td><td>0</td></tr><tr><td>8184</td><td>622</td><td>2</td><td>2015-09-08</td><td>null</td><td>0</td><td>0</td><td>0</td></tr><tr><td>9040</td><td>622</td><td>1</td><td>2015-09-07</td><td>null</td><td>0</td><td>0</td><td>0</td></tr><tr><td>10752</td><td>622</td><td>6</td><td>2015-09-05</td><td>null</td><td>0</td><td>0</td><td>0</td></tr></tbody></table></div>"
      ]
     },
     "metadata": {
      "application/vnd.databricks.v1+output": {
       "addedWidgets": {},
       "aggData": [],
       "aggError": "",
       "aggOverflow": false,
       "aggSchema": [],
       "aggSeriesLimitReached": false,
       "aggType": "",
       "arguments": {},
       "columnCustomDisplayInfos": {},
       "data": [
        [
         480,
         622,
         4,
         "2015-09-17",
         null,
         1,
         "0",
         0
        ],
        [
         1336,
         622,
         3,
         "2015-09-16",
         null,
         1,
         "0",
         0
        ],
        [
         2192,
         622,
         2,
         "2015-09-15",
         null,
         1,
         "0",
         0
        ],
        [
         3048,
         622,
         1,
         "2015-09-14",
         null,
         1,
         "0",
         0
        ],
        [
         4760,
         622,
         6,
         "2015-09-12",
         null,
         0,
         "0",
         0
        ],
        [
         5616,
         622,
         5,
         "2015-09-11",
         null,
         0,
         "0",
         0
        ],
        [
         6472,
         622,
         4,
         "2015-09-10",
         null,
         0,
         "0",
         0
        ],
        [
         7328,
         622,
         3,
         "2015-09-09",
         null,
         0,
         "0",
         0
        ],
        [
         8184,
         622,
         2,
         "2015-09-08",
         null,
         0,
         "0",
         0
        ],
        [
         9040,
         622,
         1,
         "2015-09-07",
         null,
         0,
         "0",
         0
        ],
        [
         10752,
         622,
         6,
         "2015-09-05",
         null,
         0,
         "0",
         0
        ]
       ],
       "datasetInfos": [],
       "dbfsResultPath": null,
       "isJsonSchema": true,
       "metadata": {},
       "overflow": false,
       "plotOptions": {
        "customPlotOptions": {},
        "displayType": "table",
        "pivotAggregation": null,
        "pivotColumns": null,
        "xColumns": null,
        "yColumns": null
       },
       "removedWidgets": [],
       "schema": [
        {
         "metadata": "{}",
         "name": "Id",
         "type": "\"integer\""
        },
        {
         "metadata": "{}",
         "name": "Store",
         "type": "\"integer\""
        },
        {
         "metadata": "{}",
         "name": "DayOfWeek",
         "type": "\"integer\""
        },
        {
         "metadata": "{\"__detected_date_formats\":\"yyyy-M-d\"}",
         "name": "Date",
         "type": "\"date\""
        },
        {
         "metadata": "{}",
         "name": "Open",
         "type": "\"integer\""
        },
        {
         "metadata": "{}",
         "name": "Promo",
         "type": "\"integer\""
        },
        {
         "metadata": "{}",
         "name": "StateHoliday",
         "type": "\"string\""
        },
        {
         "metadata": "{}",
         "name": "SchoolHoliday",
         "type": "\"integer\""
        }
       ],
       "type": "table"
      }
     },
     "output_type": "display_data"
    }
   ],
   "source": [
    "display(\n",
    "    df_test.filter(F.col('Open').isNull())\n",
    ")"
   ]
  },
  {
   "cell_type": "markdown",
   "metadata": {
    "application/vnd.databricks.v1+cell": {
     "cellMetadata": {
      "byteLimit": 2048000,
      "rowLimit": 10000
     },
     "inputWidgets": {},
     "nuid": "77f13546-2c95-4df8-9a8f-eb16b1fe362f",
     "showTitle": false,
     "tableResultSettingsMap": {},
     "title": ""
    }
   },
   "source": [
    "# Data Preprocessing"
   ]
  },
  {
   "cell_type": "code",
   "execution_count": 0,
   "metadata": {
    "application/vnd.databricks.v1+cell": {
     "cellMetadata": {
      "byteLimit": 2048000,
      "rowLimit": 10000
     },
     "inputWidgets": {},
     "nuid": "def3894d-ff51-4d2c-9b48-3fb7e166049f",
     "showTitle": false,
     "tableResultSettingsMap": {},
     "title": ""
    }
   },
   "outputs": [
    {
     "output_type": "display_data",
     "data": {
      "text/html": [
       "<style scoped>\n",
       "  .table-result-container {\n",
       "    max-height: 300px;\n",
       "    overflow: auto;\n",
       "  }\n",
       "  table, th, td {\n",
       "    border: 1px solid black;\n",
       "    border-collapse: collapse;\n",
       "  }\n",
       "  th, td {\n",
       "    padding: 5px;\n",
       "  }\n",
       "  th {\n",
       "    text-align: left;\n",
       "  }\n",
       "</style><div class='table-result-container'><table class='table-result'><thead style='background-color: white'><tr><th>Store</th><th>DayOfWeek</th><th>Date</th><th>Sales</th><th>Customers</th><th>Open</th><th>Promo</th><th>StateHoliday</th><th>SchoolHoliday</th><th>week_of_year</th><th>year</th><th>month</th><th>day</th></tr></thead><tbody><tr><td>1</td><td>5</td><td>2015-07-31</td><td>5263</td><td>555</td><td>1</td><td>1</td><td>0</td><td>1</td><td>31</td><td>2015</td><td>7</td><td>31</td></tr></tbody></table></div>"
      ]
     },
     "metadata": {
      "application/vnd.databricks.v1+output": {
       "addedWidgets": {},
       "aggData": [],
       "aggError": "",
       "aggOverflow": false,
       "aggSchema": [],
       "aggSeriesLimitReached": false,
       "aggType": "",
       "arguments": {},
       "columnCustomDisplayInfos": {},
       "data": [
        [
         1,
         5,
         "2015-07-31",
         5263,
         555,
         1,
         1,
         "0",
         1,
         31,
         2015,
         7,
         31
        ]
       ],
       "datasetInfos": [],
       "dbfsResultPath": null,
       "isJsonSchema": true,
       "metadata": {},
       "overflow": false,
       "plotOptions": {
        "customPlotOptions": {},
        "displayType": "table",
        "pivotAggregation": null,
        "pivotColumns": null,
        "xColumns": null,
        "yColumns": null
       },
       "removedWidgets": [],
       "schema": [
        {
         "metadata": "{}",
         "name": "Store",
         "type": "\"integer\""
        },
        {
         "metadata": "{}",
         "name": "DayOfWeek",
         "type": "\"integer\""
        },
        {
         "metadata": "{\"__detected_date_formats\":\"yyyy-M-d\"}",
         "name": "Date",
         "type": "\"date\""
        },
        {
         "metadata": "{}",
         "name": "Sales",
         "type": "\"integer\""
        },
        {
         "metadata": "{}",
         "name": "Customers",
         "type": "\"integer\""
        },
        {
         "metadata": "{}",
         "name": "Open",
         "type": "\"integer\""
        },
        {
         "metadata": "{}",
         "name": "Promo",
         "type": "\"integer\""
        },
        {
         "metadata": "{}",
         "name": "StateHoliday",
         "type": "\"string\""
        },
        {
         "metadata": "{}",
         "name": "SchoolHoliday",
         "type": "\"integer\""
        },
        {
         "metadata": "{}",
         "name": "week_of_year",
         "type": "\"integer\""
        },
        {
         "metadata": "{}",
         "name": "year",
         "type": "\"integer\""
        },
        {
         "metadata": "{}",
         "name": "month",
         "type": "\"integer\""
        },
        {
         "metadata": "{}",
         "name": "day",
         "type": "\"integer\""
        }
       ],
       "type": "table"
      }
     },
     "output_type": "display_data"
    }
   ],
   "source": [
    "df_train = process_train_test(df_train)\n",
    "display(\n",
    "    df_train.limit(1)\n",
    ")"
   ]
  },
  {
   "cell_type": "code",
   "execution_count": 0,
   "metadata": {
    "application/vnd.databricks.v1+cell": {
     "cellMetadata": {
      "byteLimit": 2048000,
      "rowLimit": 10000
     },
     "inputWidgets": {},
     "nuid": "bea6ea4d-da40-4365-815d-c55958a46e36",
     "showTitle": false,
     "tableResultSettingsMap": {},
     "title": ""
    }
   },
   "outputs": [
    {
     "output_type": "display_data",
     "data": {
      "text/html": [
       "<style scoped>\n",
       "  .table-result-container {\n",
       "    max-height: 300px;\n",
       "    overflow: auto;\n",
       "  }\n",
       "  table, th, td {\n",
       "    border: 1px solid black;\n",
       "    border-collapse: collapse;\n",
       "  }\n",
       "  th, td {\n",
       "    padding: 5px;\n",
       "  }\n",
       "  th {\n",
       "    text-align: left;\n",
       "  }\n",
       "</style><div class='table-result-container'><table class='table-result'><thead style='background-color: white'><tr><th>Id</th><th>Store</th><th>DayOfWeek</th><th>Date</th><th>Open</th><th>Promo</th><th>StateHoliday</th><th>SchoolHoliday</th><th>week_of_year</th><th>year</th><th>month</th><th>day</th></tr></thead><tbody><tr><td>1</td><td>1</td><td>4</td><td>2015-09-17</td><td>1</td><td>1</td><td>0</td><td>0</td><td>38</td><td>2015</td><td>9</td><td>17</td></tr></tbody></table></div>"
      ]
     },
     "metadata": {
      "application/vnd.databricks.v1+output": {
       "addedWidgets": {},
       "aggData": [],
       "aggError": "",
       "aggOverflow": false,
       "aggSchema": [],
       "aggSeriesLimitReached": false,
       "aggType": "",
       "arguments": {},
       "columnCustomDisplayInfos": {},
       "data": [
        [
         1,
         1,
         4,
         "2015-09-17",
         1,
         1,
         "0",
         0,
         38,
         2015,
         9,
         17
        ]
       ],
       "datasetInfos": [],
       "dbfsResultPath": null,
       "isJsonSchema": true,
       "metadata": {},
       "overflow": false,
       "plotOptions": {
        "customPlotOptions": {},
        "displayType": "table",
        "pivotAggregation": null,
        "pivotColumns": null,
        "xColumns": null,
        "yColumns": null
       },
       "removedWidgets": [],
       "schema": [
        {
         "metadata": "{}",
         "name": "Id",
         "type": "\"integer\""
        },
        {
         "metadata": "{}",
         "name": "Store",
         "type": "\"integer\""
        },
        {
         "metadata": "{}",
         "name": "DayOfWeek",
         "type": "\"integer\""
        },
        {
         "metadata": "{\"__detected_date_formats\":\"yyyy-M-d\"}",
         "name": "Date",
         "type": "\"date\""
        },
        {
         "metadata": "{}",
         "name": "Open",
         "type": "\"integer\""
        },
        {
         "metadata": "{}",
         "name": "Promo",
         "type": "\"integer\""
        },
        {
         "metadata": "{}",
         "name": "StateHoliday",
         "type": "\"string\""
        },
        {
         "metadata": "{}",
         "name": "SchoolHoliday",
         "type": "\"integer\""
        },
        {
         "metadata": "{}",
         "name": "week_of_year",
         "type": "\"integer\""
        },
        {
         "metadata": "{}",
         "name": "year",
         "type": "\"integer\""
        },
        {
         "metadata": "{}",
         "name": "month",
         "type": "\"integer\""
        },
        {
         "metadata": "{}",
         "name": "day",
         "type": "\"integer\""
        }
       ],
       "type": "table"
      }
     },
     "output_type": "display_data"
    }
   ],
   "source": [
    "df_test = process_train_test(df_test)\n",
    "display(\n",
    "    df_test.limit(1)\n",
    ")"
   ]
  },
  {
   "cell_type": "code",
   "execution_count": 0,
   "metadata": {
    "application/vnd.databricks.v1+cell": {
     "cellMetadata": {
      "byteLimit": 2048000,
      "rowLimit": 10000
     },
     "inputWidgets": {},
     "nuid": "e684b0b0-9145-44c8-9940-59f00f4fd38f",
     "showTitle": false,
     "tableResultSettingsMap": {},
     "title": ""
    }
   },
   "outputs": [
    {
     "output_type": "stream",
     "name": "stdout",
     "output_type": "stream",
     "text": [
      "{'CompetitionDistance': 3,\n 'CompetitionOpenSinceMonth': 354,\n 'CompetitionOpenSinceYear': 354,\n 'Promo2SinceWeek': 544,\n 'Promo2SinceYear': 544,\n 'PromoInterval': 544}root\n |-- Store: integer (nullable = true)\n |-- StoreType: string (nullable = true)\n |-- Assortment: string (nullable = true)\n |-- CompetitionDistance: integer (nullable = true)\n |-- CompetitionOpenSinceMonth: integer (nullable = true)\n |-- CompetitionOpenSinceYear: integer (nullable = true)\n |-- Promo2: integer (nullable = true)\n |-- Promo2SinceWeek: integer (nullable = true)\n |-- Promo2SinceYear: integer (nullable = true)\n |-- PromoInterval: string (nullable = true)\n\n"
     ]
    }
   ],
   "source": [
    "display(\n",
    "    see_nulls(df_store)\n",
    ")\n",
    "df_store.printSchema()"
   ]
  },
  {
   "cell_type": "code",
   "execution_count": 0,
   "metadata": {
    "application/vnd.databricks.v1+cell": {
     "cellMetadata": {
      "byteLimit": 2048000,
      "rowLimit": 10000
     },
     "inputWidgets": {},
     "nuid": "1f3b4115-5f1e-439b-b437-be7a49843948",
     "showTitle": false,
     "tableResultSettingsMap": {},
     "title": ""
    }
   },
   "outputs": [],
   "source": [
    "df_store = df_store.fillna(0)\n",
    "df_store = df_store.fillna({'PromoInterval': '0'})"
   ]
  },
  {
   "cell_type": "code",
   "execution_count": 0,
   "metadata": {
    "application/vnd.databricks.v1+cell": {
     "cellMetadata": {
      "byteLimit": 2048000,
      "rowLimit": 10000
     },
     "inputWidgets": {},
     "nuid": "f44f86bf-56a2-4a5f-b0f4-b6b71eccb51b",
     "showTitle": false,
     "tableResultSettingsMap": {},
     "title": ""
    }
   },
   "outputs": [
    {
     "output_type": "stream",
     "name": "stdout",
     "output_type": "stream",
     "text": [
      "{}{}{}"
     ]
    }
   ],
   "source": [
    "display(\n",
    "    see_nulls(df_store)\n",
    ")\n",
    "display(\n",
    "    see_nulls(df_train)\n",
    ")\n",
    "display(\n",
    "    see_nulls(df_test)\n",
    ")"
   ]
  },
  {
   "cell_type": "markdown",
   "metadata": {
    "application/vnd.databricks.v1+cell": {
     "cellMetadata": {
      "byteLimit": 2048000,
      "rowLimit": 10000
     },
     "inputWidgets": {},
     "nuid": "a8e6941b-0178-4222-8097-537546a23abd",
     "showTitle": false,
     "tableResultSettingsMap": {},
     "title": ""
    }
   },
   "source": [
    "# Code"
   ]
  },
  {
   "cell_type": "code",
   "execution_count": 0,
   "metadata": {
    "application/vnd.databricks.v1+cell": {
     "cellMetadata": {
      "byteLimit": 2048000,
      "implicitDf": true,
      "rowLimit": 10000
     },
     "inputWidgets": {},
     "nuid": "11dcb4b9-d654-4bd3-9453-ad4739510d52",
     "showTitle": false,
     "tableResultSettingsMap": {},
     "title": ""
    }
   },
   "outputs": [
    {
     "output_type": "display_data",
     "data": {
      "text/html": [
       "<style scoped>\n",
       "  .table-result-container {\n",
       "    max-height: 300px;\n",
       "    overflow: auto;\n",
       "  }\n",
       "  table, th, td {\n",
       "    border: 1px solid black;\n",
       "    border-collapse: collapse;\n",
       "  }\n",
       "  th, td {\n",
       "    padding: 5px;\n",
       "  }\n",
       "  th {\n",
       "    text-align: left;\n",
       "  }\n",
       "</style><div class='table-result-container'><table class='table-result'><thead style='background-color: white'><tr><th>Store</th><th>DayOfWeek</th><th>Date</th><th>Sales</th><th>Customers</th><th>Open</th><th>Promo</th><th>StateHoliday</th><th>SchoolHoliday</th><th>week_of_year</th><th>year</th><th>month</th><th>day</th><th>SalePerCustomer</th></tr></thead><tbody><tr><td>1</td><td>5</td><td>2015-07-31</td><td>5263</td><td>555</td><td>1</td><td>1</td><td>0</td><td>1</td><td>31</td><td>2015</td><td>7</td><td>31</td><td>9.48</td></tr><tr><td>2</td><td>5</td><td>2015-07-31</td><td>6064</td><td>625</td><td>1</td><td>1</td><td>0</td><td>1</td><td>31</td><td>2015</td><td>7</td><td>31</td><td>9.7</td></tr><tr><td>3</td><td>5</td><td>2015-07-31</td><td>8314</td><td>821</td><td>1</td><td>1</td><td>0</td><td>1</td><td>31</td><td>2015</td><td>7</td><td>31</td><td>10.13</td></tr><tr><td>4</td><td>5</td><td>2015-07-31</td><td>13995</td><td>1498</td><td>1</td><td>1</td><td>0</td><td>1</td><td>31</td><td>2015</td><td>7</td><td>31</td><td>9.34</td></tr><tr><td>5</td><td>5</td><td>2015-07-31</td><td>4822</td><td>559</td><td>1</td><td>1</td><td>0</td><td>1</td><td>31</td><td>2015</td><td>7</td><td>31</td><td>8.63</td></tr></tbody></table></div>"
      ]
     },
     "metadata": {
      "application/vnd.databricks.v1+output": {
       "addedWidgets": {},
       "aggData": [],
       "aggError": "",
       "aggOverflow": false,
       "aggSchema": [],
       "aggSeriesLimitReached": false,
       "aggType": "",
       "arguments": {},
       "columnCustomDisplayInfos": {},
       "data": [
        [
         1,
         5,
         "2015-07-31",
         5263,
         555,
         1,
         1,
         "0",
         1,
         31,
         2015,
         7,
         31,
         9.48
        ],
        [
         2,
         5,
         "2015-07-31",
         6064,
         625,
         1,
         1,
         "0",
         1,
         31,
         2015,
         7,
         31,
         9.7
        ],
        [
         3,
         5,
         "2015-07-31",
         8314,
         821,
         1,
         1,
         "0",
         1,
         31,
         2015,
         7,
         31,
         10.13
        ],
        [
         4,
         5,
         "2015-07-31",
         13995,
         1498,
         1,
         1,
         "0",
         1,
         31,
         2015,
         7,
         31,
         9.34
        ],
        [
         5,
         5,
         "2015-07-31",
         4822,
         559,
         1,
         1,
         "0",
         1,
         31,
         2015,
         7,
         31,
         8.63
        ]
       ],
       "datasetInfos": [],
       "dbfsResultPath": null,
       "isJsonSchema": true,
       "metadata": {},
       "overflow": false,
       "plotOptions": {
        "customPlotOptions": {},
        "displayType": "table",
        "pivotAggregation": null,
        "pivotColumns": null,
        "xColumns": null,
        "yColumns": null
       },
       "removedWidgets": [],
       "schema": [
        {
         "metadata": "{}",
         "name": "Store",
         "type": "\"long\""
        },
        {
         "metadata": "{}",
         "name": "DayOfWeek",
         "type": "\"long\""
        },
        {
         "metadata": "{}",
         "name": "Date",
         "type": "\"date\""
        },
        {
         "metadata": "{}",
         "name": "Sales",
         "type": "\"long\""
        },
        {
         "metadata": "{}",
         "name": "Customers",
         "type": "\"long\""
        },
        {
         "metadata": "{}",
         "name": "Open",
         "type": "\"long\""
        },
        {
         "metadata": "{}",
         "name": "Promo",
         "type": "\"long\""
        },
        {
         "metadata": "{}",
         "name": "StateHoliday",
         "type": "\"string\""
        },
        {
         "metadata": "{}",
         "name": "SchoolHoliday",
         "type": "\"long\""
        },
        {
         "metadata": "{}",
         "name": "week_of_year",
         "type": "\"long\""
        },
        {
         "metadata": "{}",
         "name": "year",
         "type": "\"long\""
        },
        {
         "metadata": "{}",
         "name": "month",
         "type": "\"long\""
        },
        {
         "metadata": "{}",
         "name": "day",
         "type": "\"long\""
        },
        {
         "metadata": "{}",
         "name": "SalePerCustomer",
         "type": "\"double\""
        }
       ],
       "type": "table"
      }
     },
     "output_type": "display_data"
    },
    {
     "output_type": "stream",
     "name": "stdout",
     "output_type": "stream",
     "text": [
      "+-------+-----------------+\n|summary|  SalePerCustomer|\n+-------+-----------------+\n|  count|           844340|\n|   mean|9.493638285524783|\n| stddev|2.197496666048751|\n|    min|              0.0|\n|    max|            64.96|\n+-------+-----------------+\n\n"
     ]
    }
   ],
   "source": [
    "df_train = df_train.withColumn(\n",
    "    \"SalePerCustomer\", F.round(F.col(\"Sales\")/F.col(\"Customers\"), 2)\n",
    ")\n",
    "display(df_train.head(5))\n",
    "\n",
    "df_train.select(F.col(\"SalePerCustomer\")).describe().show()"
   ]
  },
  {
   "cell_type": "code",
   "execution_count": 0,
   "metadata": {
    "application/vnd.databricks.v1+cell": {
     "cellMetadata": {
      "byteLimit": 2048000,
      "rowLimit": 10000
     },
     "inputWidgets": {},
     "nuid": "3790dd21-7a19-4c7c-92f3-fc63074ee25e",
     "showTitle": false,
     "tableResultSettingsMap": {},
     "title": ""
    }
   },
   "outputs": [],
   "source": [
    "df_train = df_train.filter(~(\n",
    "    (F.col(\"Open\") == 0) &\n",
    "    (F.col(\"Sales\") == 0)\n",
    ")\n",
    ")"
   ]
  },
  {
   "cell_type": "code",
   "execution_count": 0,
   "metadata": {
    "application/vnd.databricks.v1+cell": {
     "cellMetadata": {
      "byteLimit": 2048000,
      "rowLimit": 10000
     },
     "inputWidgets": {},
     "nuid": "eb64c2e4-387e-4c32-8186-2f0fde15da6d",
     "showTitle": false,
     "tableResultSettingsMap": {},
     "title": ""
    }
   },
   "outputs": [],
   "source": [
    "df_train = df_train.filter((\n",
    "    (F.col(\"Open\") != 0) &\n",
    "    (F.col(\"Sales\") != 0)\n",
    ")\n",
    ")"
   ]
  },
  {
   "cell_type": "code",
   "execution_count": 0,
   "metadata": {
    "application/vnd.databricks.v1+cell": {
     "cellMetadata": {
      "byteLimit": 2048000,
      "rowLimit": 10000
     },
     "inputWidgets": {},
     "nuid": "c057e995-68ed-4e53-9460-a51411f88dbe",
     "showTitle": false,
     "tableResultSettingsMap": {},
     "title": ""
    }
   },
   "outputs": [
    {
     "output_type": "display_data",
     "data": {
      "text/html": [
       "<style scoped>\n",
       "  .table-result-container {\n",
       "    max-height: 300px;\n",
       "    overflow: auto;\n",
       "  }\n",
       "  table, th, td {\n",
       "    border: 1px solid black;\n",
       "    border-collapse: collapse;\n",
       "  }\n",
       "  th, td {\n",
       "    padding: 5px;\n",
       "  }\n",
       "  th {\n",
       "    text-align: left;\n",
       "  }\n",
       "</style><div class='table-result-container'><table class='table-result'><thead style='background-color: white'><tr><th>summary</th><th>Store</th><th>DayOfWeek</th><th>Sales</th><th>Customers</th><th>Open</th><th>Promo</th><th>StateHoliday</th><th>SchoolHoliday</th><th>week_of_year</th><th>year</th><th>month</th><th>day</th><th>SalePerCustomer</th></tr></thead><tbody><tr><td>count</td><td>844338</td><td>844338</td><td>844338</td><td>844338</td><td>844338</td><td>844338</td><td>844338</td><td>844338</td><td>844338</td><td>844338</td><td>844338</td><td>844338</td><td>844338</td></tr><tr><td>mean</td><td>558.4213739047633</td><td>3.5203496703926627</td><td>6955.959133664481</td><td>762.777166253325</td><td>1.0</td><td>0.4463556064040704</td><td>0.0</td><td>0.19357769045098053</td><td>23.646945891337356</td><td>2013.8319452636267</td><td>5.845773848861475</td><td>15.835705606048762</td><td>9.493660773292207</td></tr><tr><td>stddev</td><td>321.73086140626936</td><td>1.7237123646860368</td><td>3103.8155154905558</td><td>401.19415256680463</td><td>0.0</td><td>0.49711424413083166</td><td>0.0</td><td>0.39510195278660487</td><td>14.38993090242554</td><td>0.7772713805425885</td><td>3.323959483467046</td><td>8.68339176080937</td><td>2.19745069213118</td></tr><tr><td>min</td><td>1</td><td>1</td><td>46</td><td>8</td><td>1</td><td>0</td><td>0</td><td>0</td><td>1</td><td>2013</td><td>1</td><td>1</td><td>2.75</td></tr><tr><td>max</td><td>1115</td><td>7</td><td>41551</td><td>7388</td><td>1</td><td>1</td><td>c</td><td>1</td><td>52</td><td>2015</td><td>12</td><td>31</td><td>64.96</td></tr></tbody></table></div>"
      ]
     },
     "metadata": {
      "application/vnd.databricks.v1+output": {
       "addedWidgets": {},
       "aggData": [],
       "aggError": "",
       "aggOverflow": false,
       "aggSchema": [],
       "aggSeriesLimitReached": false,
       "aggType": "",
       "arguments": {},
       "columnCustomDisplayInfos": {},
       "data": [
        [
         "count",
         "844338",
         "844338",
         "844338",
         "844338",
         "844338",
         "844338",
         "844338",
         "844338",
         "844338",
         "844338",
         "844338",
         "844338",
         "844338"
        ],
        [
         "mean",
         "558.4213739047633",
         "3.5203496703926627",
         "6955.959133664481",
         "762.777166253325",
         "1.0",
         "0.4463556064040704",
         "0.0",
         "0.19357769045098053",
         "23.646945891337356",
         "2013.8319452636267",
         "5.845773848861475",
         "15.835705606048762",
         "9.493660773292207"
        ],
        [
         "stddev",
         "321.73086140626936",
         "1.7237123646860368",
         "3103.8155154905558",
         "401.19415256680463",
         "0.0",
         "0.49711424413083166",
         "0.0",
         "0.39510195278660487",
         "14.38993090242554",
         "0.7772713805425885",
         "3.323959483467046",
         "8.68339176080937",
         "2.19745069213118"
        ],
        [
         "min",
         "1",
         "1",
         "46",
         "8",
         "1",
         "0",
         "0",
         "0",
         "1",
         "2013",
         "1",
         "1",
         "2.75"
        ],
        [
         "max",
         "1115",
         "7",
         "41551",
         "7388",
         "1",
         "1",
         "c",
         "1",
         "52",
         "2015",
         "12",
         "31",
         "64.96"
        ]
       ],
       "datasetInfos": [],
       "dbfsResultPath": null,
       "isJsonSchema": true,
       "metadata": {},
       "overflow": false,
       "plotOptions": {
        "customPlotOptions": {},
        "displayType": "table",
        "pivotAggregation": null,
        "pivotColumns": null,
        "xColumns": null,
        "yColumns": null
       },
       "removedWidgets": [],
       "schema": [
        {
         "metadata": "{}",
         "name": "summary",
         "type": "\"string\""
        },
        {
         "metadata": "{}",
         "name": "Store",
         "type": "\"string\""
        },
        {
         "metadata": "{}",
         "name": "DayOfWeek",
         "type": "\"string\""
        },
        {
         "metadata": "{}",
         "name": "Sales",
         "type": "\"string\""
        },
        {
         "metadata": "{}",
         "name": "Customers",
         "type": "\"string\""
        },
        {
         "metadata": "{}",
         "name": "Open",
         "type": "\"string\""
        },
        {
         "metadata": "{}",
         "name": "Promo",
         "type": "\"string\""
        },
        {
         "metadata": "{}",
         "name": "StateHoliday",
         "type": "\"string\""
        },
        {
         "metadata": "{}",
         "name": "SchoolHoliday",
         "type": "\"string\""
        },
        {
         "metadata": "{}",
         "name": "week_of_year",
         "type": "\"string\""
        },
        {
         "metadata": "{}",
         "name": "year",
         "type": "\"string\""
        },
        {
         "metadata": "{}",
         "name": "month",
         "type": "\"string\""
        },
        {
         "metadata": "{}",
         "name": "day",
         "type": "\"string\""
        },
        {
         "metadata": "{}",
         "name": "SalePerCustomer",
         "type": "\"string\""
        }
       ],
       "type": "table"
      }
     },
     "output_type": "display_data"
    }
   ],
   "source": [
    "display(df_train.describe())"
   ]
  }
 ],
 "metadata": {
  "application/vnd.databricks.v1+notebook": {
   "computePreferences": null,
   "dashboards": [],
   "environmentMetadata": {
    "base_environment": "",
    "environment_version": "1"
   },
   "inputWidgetPreferences": null,
   "language": "python",
   "notebookMetadata": {
    "mostRecentlyExecutedCommandWithImplicitDF": {
     "commandId": -1,
     "dataframes": [
      "_sqldf"
     ]
    },
    "pythonIndentUnit": 4
   },
   "notebookName": "Rossmann Store Sales Forecasting",
   "widgets": {}
  }
 },
 "nbformat": 4,
 "nbformat_minor": 0
}